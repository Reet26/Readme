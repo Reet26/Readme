{
  "nbformat": 4,
  "nbformat_minor": 0,
  "metadata": {
    "colab": {
      "name": "Mid_term_project1.ipynb",
      "provenance": [],
      "collapsed_sections": [
        "8jY-f0Ejzfoa",
        "ywQ2OfSi1Ju6",
        "fAibuYz91Jq2",
        "Mw_wvwrz1JoJ",
        "oqdyTRE51z1F"
      ],
      "include_colab_link": true
    },
    "kernelspec": {
      "name": "python3",
      "display_name": "Python 3"
    },
    "language_info": {
      "name": "python"
    }
  },
  "cells": [
    {
      "cell_type": "markdown",
      "metadata": {
        "id": "view-in-github",
        "colab_type": "text"
      },
      "source": [
        "<a href=\"https://colab.research.google.com/github/Reet26/Readme/blob/main/project.ipynb\" target=\"_parent\"><img src=\"https://colab.research.google.com/assets/colab-badge.svg\" alt=\"Open In Colab\"/></a>"
      ]
    },
    {
      "cell_type": "markdown",
      "source": [
        "### **Importing required libraries and loading the datasets.**\n",
        "\n",
        "\n",
        "\n",
        "\n",
        "\n",
        "\n",
        "\n",
        "---\n",
        "\n"
      ],
      "metadata": {
        "id": "78PQpTpTpdUS"
      }
    },
    {
      "cell_type": "code",
      "execution_count": null,
      "metadata": {
        "id": "ENHuG08wBX1N"
      },
      "outputs": [],
      "source": [
        "import pandas as pd\n",
        "import numpy as np\n",
        "import seaborn as sns\n",
        "import matplotlib.pyplot as plt\n",
        "import math\n",
        "%matplotlib inline\n",
        "from sklearn.ensemble import RandomForestRegressor\n",
        "from sklearn.neighbors import KNeighborsRegressor\n",
        "from sklearn.svm import SVR\n",
        "from sklearn.ensemble import BaggingRegressor\n",
        "from sklearn.ensemble import GradientBoostingRegressor"
      ]
    },
    {
      "cell_type": "code",
      "source": [
        "df= pd.read_csv('/content/train.csv')"
      ],
      "metadata": {
        "id": "bTU6KrfmpUTt"
      },
      "execution_count": null,
      "outputs": []
    },
    {
      "cell_type": "code",
      "source": [
        "df"
      ],
      "metadata": {
        "colab": {
          "base_uri": "https://localhost:8080/",
          "height": 424
        },
        "id": "TmKy2qAlpgNs",
        "outputId": "ecebf8bd-39ba-4e20-f73e-14f871fc9641"
      },
      "execution_count": null,
      "outputs": [
        {
          "output_type": "execute_result",
          "data": {
            "text/html": [
              "\n",
              "  <div id=\"df-aff241ab-74a0-4b50-886f-215ddc358073\">\n",
              "    <div class=\"colab-df-container\">\n",
              "      <div>\n",
              "<style scoped>\n",
              "    .dataframe tbody tr th:only-of-type {\n",
              "        vertical-align: middle;\n",
              "    }\n",
              "\n",
              "    .dataframe tbody tr th {\n",
              "        vertical-align: top;\n",
              "    }\n",
              "\n",
              "    .dataframe thead th {\n",
              "        text-align: right;\n",
              "    }\n",
              "</style>\n",
              "<table border=\"1\" class=\"dataframe\">\n",
              "  <thead>\n",
              "    <tr style=\"text-align: right;\">\n",
              "      <th></th>\n",
              "      <th>datetime</th>\n",
              "      <th>season</th>\n",
              "      <th>holiday</th>\n",
              "      <th>workingday</th>\n",
              "      <th>weather</th>\n",
              "      <th>temp</th>\n",
              "      <th>atemp</th>\n",
              "      <th>humidity</th>\n",
              "      <th>windspeed</th>\n",
              "    </tr>\n",
              "  </thead>\n",
              "  <tbody>\n",
              "    <tr>\n",
              "      <th>0</th>\n",
              "      <td>5/2/2012 19:00</td>\n",
              "      <td>Summer</td>\n",
              "      <td>0</td>\n",
              "      <td>1</td>\n",
              "      <td>Clear + Few clouds</td>\n",
              "      <td>22.14</td>\n",
              "      <td>25.760</td>\n",
              "      <td>77</td>\n",
              "      <td>16.9979</td>\n",
              "    </tr>\n",
              "    <tr>\n",
              "      <th>1</th>\n",
              "      <td>9/5/2012 4:00</td>\n",
              "      <td>Fall</td>\n",
              "      <td>0</td>\n",
              "      <td>1</td>\n",
              "      <td>Clear + Few clouds</td>\n",
              "      <td>28.70</td>\n",
              "      <td>33.335</td>\n",
              "      <td>79</td>\n",
              "      <td>19.0012</td>\n",
              "    </tr>\n",
              "    <tr>\n",
              "      <th>2</th>\n",
              "      <td>1/13/2011 9:00</td>\n",
              "      <td>Spring</td>\n",
              "      <td>0</td>\n",
              "      <td>1</td>\n",
              "      <td>Clear + Few clouds</td>\n",
              "      <td>5.74</td>\n",
              "      <td>6.060</td>\n",
              "      <td>50</td>\n",
              "      <td>22.0028</td>\n",
              "    </tr>\n",
              "    <tr>\n",
              "      <th>3</th>\n",
              "      <td>11/18/2011 16:00</td>\n",
              "      <td>Winter</td>\n",
              "      <td>0</td>\n",
              "      <td>1</td>\n",
              "      <td>Clear + Few clouds</td>\n",
              "      <td>13.94</td>\n",
              "      <td>16.665</td>\n",
              "      <td>29</td>\n",
              "      <td>8.9981</td>\n",
              "    </tr>\n",
              "    <tr>\n",
              "      <th>4</th>\n",
              "      <td>9/13/2011 13:00</td>\n",
              "      <td>Fall</td>\n",
              "      <td>0</td>\n",
              "      <td>1</td>\n",
              "      <td>Clear + Few clouds</td>\n",
              "      <td>30.34</td>\n",
              "      <td>33.335</td>\n",
              "      <td>51</td>\n",
              "      <td>19.0012</td>\n",
              "    </tr>\n",
              "    <tr>\n",
              "      <th>...</th>\n",
              "      <td>...</td>\n",
              "      <td>...</td>\n",
              "      <td>...</td>\n",
              "      <td>...</td>\n",
              "      <td>...</td>\n",
              "      <td>...</td>\n",
              "      <td>...</td>\n",
              "      <td>...</td>\n",
              "      <td>...</td>\n",
              "    </tr>\n",
              "    <tr>\n",
              "      <th>8703</th>\n",
              "      <td>1/16/2012 6:00</td>\n",
              "      <td>Spring</td>\n",
              "      <td>1</td>\n",
              "      <td>0</td>\n",
              "      <td>Clear + Few clouds</td>\n",
              "      <td>4.10</td>\n",
              "      <td>6.820</td>\n",
              "      <td>54</td>\n",
              "      <td>6.0032</td>\n",
              "    </tr>\n",
              "    <tr>\n",
              "      <th>8704</th>\n",
              "      <td>11/10/2011 1:00</td>\n",
              "      <td>Winter</td>\n",
              "      <td>0</td>\n",
              "      <td>1</td>\n",
              "      <td>Mist + Cloudy</td>\n",
              "      <td>16.40</td>\n",
              "      <td>20.455</td>\n",
              "      <td>87</td>\n",
              "      <td>0.0000</td>\n",
              "    </tr>\n",
              "    <tr>\n",
              "      <th>8705</th>\n",
              "      <td>4/12/2011 3:00</td>\n",
              "      <td>Summer</td>\n",
              "      <td>0</td>\n",
              "      <td>1</td>\n",
              "      <td>Mist + Cloudy</td>\n",
              "      <td>23.78</td>\n",
              "      <td>27.275</td>\n",
              "      <td>56</td>\n",
              "      <td>8.9981</td>\n",
              "    </tr>\n",
              "    <tr>\n",
              "      <th>8706</th>\n",
              "      <td>11/7/2012 1:00</td>\n",
              "      <td>Winter</td>\n",
              "      <td>0</td>\n",
              "      <td>1</td>\n",
              "      <td>Mist + Cloudy</td>\n",
              "      <td>11.48</td>\n",
              "      <td>13.635</td>\n",
              "      <td>61</td>\n",
              "      <td>16.9979</td>\n",
              "    </tr>\n",
              "    <tr>\n",
              "      <th>8707</th>\n",
              "      <td>1/10/2011 10:00</td>\n",
              "      <td>Spring</td>\n",
              "      <td>0</td>\n",
              "      <td>1</td>\n",
              "      <td>Mist + Cloudy</td>\n",
              "      <td>5.74</td>\n",
              "      <td>6.060</td>\n",
              "      <td>50</td>\n",
              "      <td>19.9995</td>\n",
              "    </tr>\n",
              "  </tbody>\n",
              "</table>\n",
              "<p>8708 rows × 9 columns</p>\n",
              "</div>\n",
              "      <button class=\"colab-df-convert\" onclick=\"convertToInteractive('df-aff241ab-74a0-4b50-886f-215ddc358073')\"\n",
              "              title=\"Convert this dataframe to an interactive table.\"\n",
              "              style=\"display:none;\">\n",
              "        \n",
              "  <svg xmlns=\"http://www.w3.org/2000/svg\" height=\"24px\"viewBox=\"0 0 24 24\"\n",
              "       width=\"24px\">\n",
              "    <path d=\"M0 0h24v24H0V0z\" fill=\"none\"/>\n",
              "    <path d=\"M18.56 5.44l.94 2.06.94-2.06 2.06-.94-2.06-.94-.94-2.06-.94 2.06-2.06.94zm-11 1L8.5 8.5l.94-2.06 2.06-.94-2.06-.94L8.5 2.5l-.94 2.06-2.06.94zm10 10l.94 2.06.94-2.06 2.06-.94-2.06-.94-.94-2.06-.94 2.06-2.06.94z\"/><path d=\"M17.41 7.96l-1.37-1.37c-.4-.4-.92-.59-1.43-.59-.52 0-1.04.2-1.43.59L10.3 9.45l-7.72 7.72c-.78.78-.78 2.05 0 2.83L4 21.41c.39.39.9.59 1.41.59.51 0 1.02-.2 1.41-.59l7.78-7.78 2.81-2.81c.8-.78.8-2.07 0-2.86zM5.41 20L4 18.59l7.72-7.72 1.47 1.35L5.41 20z\"/>\n",
              "  </svg>\n",
              "      </button>\n",
              "      \n",
              "  <style>\n",
              "    .colab-df-container {\n",
              "      display:flex;\n",
              "      flex-wrap:wrap;\n",
              "      gap: 12px;\n",
              "    }\n",
              "\n",
              "    .colab-df-convert {\n",
              "      background-color: #E8F0FE;\n",
              "      border: none;\n",
              "      border-radius: 50%;\n",
              "      cursor: pointer;\n",
              "      display: none;\n",
              "      fill: #1967D2;\n",
              "      height: 32px;\n",
              "      padding: 0 0 0 0;\n",
              "      width: 32px;\n",
              "    }\n",
              "\n",
              "    .colab-df-convert:hover {\n",
              "      background-color: #E2EBFA;\n",
              "      box-shadow: 0px 1px 2px rgba(60, 64, 67, 0.3), 0px 1px 3px 1px rgba(60, 64, 67, 0.15);\n",
              "      fill: #174EA6;\n",
              "    }\n",
              "\n",
              "    [theme=dark] .colab-df-convert {\n",
              "      background-color: #3B4455;\n",
              "      fill: #D2E3FC;\n",
              "    }\n",
              "\n",
              "    [theme=dark] .colab-df-convert:hover {\n",
              "      background-color: #434B5C;\n",
              "      box-shadow: 0px 1px 3px 1px rgba(0, 0, 0, 0.15);\n",
              "      filter: drop-shadow(0px 1px 2px rgba(0, 0, 0, 0.3));\n",
              "      fill: #FFFFFF;\n",
              "    }\n",
              "  </style>\n",
              "\n",
              "      <script>\n",
              "        const buttonEl =\n",
              "          document.querySelector('#df-aff241ab-74a0-4b50-886f-215ddc358073 button.colab-df-convert');\n",
              "        buttonEl.style.display =\n",
              "          google.colab.kernel.accessAllowed ? 'block' : 'none';\n",
              "\n",
              "        async function convertToInteractive(key) {\n",
              "          const element = document.querySelector('#df-aff241ab-74a0-4b50-886f-215ddc358073');\n",
              "          const dataTable =\n",
              "            await google.colab.kernel.invokeFunction('convertToInteractive',\n",
              "                                                     [key], {});\n",
              "          if (!dataTable) return;\n",
              "\n",
              "          const docLinkHtml = 'Like what you see? Visit the ' +\n",
              "            '<a target=\"_blank\" href=https://colab.research.google.com/notebooks/data_table.ipynb>data table notebook</a>'\n",
              "            + ' to learn more about interactive tables.';\n",
              "          element.innerHTML = '';\n",
              "          dataTable['output_type'] = 'display_data';\n",
              "          await google.colab.output.renderOutput(dataTable, element);\n",
              "          const docLink = document.createElement('div');\n",
              "          docLink.innerHTML = docLinkHtml;\n",
              "          element.appendChild(docLink);\n",
              "        }\n",
              "      </script>\n",
              "    </div>\n",
              "  </div>\n",
              "  "
            ],
            "text/plain": [
              "              datetime  season  holiday  ...   atemp humidity  windspeed\n",
              "0       5/2/2012 19:00  Summer        0  ...  25.760       77    16.9979\n",
              "1        9/5/2012 4:00    Fall        0  ...  33.335       79    19.0012\n",
              "2       1/13/2011 9:00  Spring        0  ...   6.060       50    22.0028\n",
              "3     11/18/2011 16:00  Winter        0  ...  16.665       29     8.9981\n",
              "4      9/13/2011 13:00    Fall        0  ...  33.335       51    19.0012\n",
              "...                ...     ...      ...  ...     ...      ...        ...\n",
              "8703    1/16/2012 6:00  Spring        1  ...   6.820       54     6.0032\n",
              "8704   11/10/2011 1:00  Winter        0  ...  20.455       87     0.0000\n",
              "8705    4/12/2011 3:00  Summer        0  ...  27.275       56     8.9981\n",
              "8706    11/7/2012 1:00  Winter        0  ...  13.635       61    16.9979\n",
              "8707   1/10/2011 10:00  Spring        0  ...   6.060       50    19.9995\n",
              "\n",
              "[8708 rows x 9 columns]"
            ]
          },
          "metadata": {},
          "execution_count": 163
        }
      ]
    },
    {
      "cell_type": "code",
      "source": [
        "df_train_label= pd.read_csv('/content/train_label.csv')\n",
        "df_train_label"
      ],
      "metadata": {
        "colab": {
          "base_uri": "https://localhost:8080/",
          "height": 424
        },
        "id": "Wg1vBsFBpndo",
        "outputId": "d06feb89-3e09-49c2-870a-8c11294ef7fc"
      },
      "execution_count": null,
      "outputs": [
        {
          "output_type": "execute_result",
          "data": {
            "text/html": [
              "\n",
              "  <div id=\"df-3ad458f0-3228-4266-befb-739062ffad40\">\n",
              "    <div class=\"colab-df-container\">\n",
              "      <div>\n",
              "<style scoped>\n",
              "    .dataframe tbody tr th:only-of-type {\n",
              "        vertical-align: middle;\n",
              "    }\n",
              "\n",
              "    .dataframe tbody tr th {\n",
              "        vertical-align: top;\n",
              "    }\n",
              "\n",
              "    .dataframe thead th {\n",
              "        text-align: right;\n",
              "    }\n",
              "</style>\n",
              "<table border=\"1\" class=\"dataframe\">\n",
              "  <thead>\n",
              "    <tr style=\"text-align: right;\">\n",
              "      <th></th>\n",
              "      <th>504</th>\n",
              "    </tr>\n",
              "  </thead>\n",
              "  <tbody>\n",
              "    <tr>\n",
              "      <th>0</th>\n",
              "      <td>5</td>\n",
              "    </tr>\n",
              "    <tr>\n",
              "      <th>1</th>\n",
              "      <td>139</td>\n",
              "    </tr>\n",
              "    <tr>\n",
              "      <th>2</th>\n",
              "      <td>209</td>\n",
              "    </tr>\n",
              "    <tr>\n",
              "      <th>3</th>\n",
              "      <td>184</td>\n",
              "    </tr>\n",
              "    <tr>\n",
              "      <th>4</th>\n",
              "      <td>791</td>\n",
              "    </tr>\n",
              "    <tr>\n",
              "      <th>...</th>\n",
              "      <td>...</td>\n",
              "    </tr>\n",
              "    <tr>\n",
              "      <th>8702</th>\n",
              "      <td>13</td>\n",
              "    </tr>\n",
              "    <tr>\n",
              "      <th>8703</th>\n",
              "      <td>11</td>\n",
              "    </tr>\n",
              "    <tr>\n",
              "      <th>8704</th>\n",
              "      <td>1</td>\n",
              "    </tr>\n",
              "    <tr>\n",
              "      <th>8705</th>\n",
              "      <td>92</td>\n",
              "    </tr>\n",
              "    <tr>\n",
              "      <th>8706</th>\n",
              "      <td>31</td>\n",
              "    </tr>\n",
              "  </tbody>\n",
              "</table>\n",
              "<p>8707 rows × 1 columns</p>\n",
              "</div>\n",
              "      <button class=\"colab-df-convert\" onclick=\"convertToInteractive('df-3ad458f0-3228-4266-befb-739062ffad40')\"\n",
              "              title=\"Convert this dataframe to an interactive table.\"\n",
              "              style=\"display:none;\">\n",
              "        \n",
              "  <svg xmlns=\"http://www.w3.org/2000/svg\" height=\"24px\"viewBox=\"0 0 24 24\"\n",
              "       width=\"24px\">\n",
              "    <path d=\"M0 0h24v24H0V0z\" fill=\"none\"/>\n",
              "    <path d=\"M18.56 5.44l.94 2.06.94-2.06 2.06-.94-2.06-.94-.94-2.06-.94 2.06-2.06.94zm-11 1L8.5 8.5l.94-2.06 2.06-.94-2.06-.94L8.5 2.5l-.94 2.06-2.06.94zm10 10l.94 2.06.94-2.06 2.06-.94-2.06-.94-.94-2.06-.94 2.06-2.06.94z\"/><path d=\"M17.41 7.96l-1.37-1.37c-.4-.4-.92-.59-1.43-.59-.52 0-1.04.2-1.43.59L10.3 9.45l-7.72 7.72c-.78.78-.78 2.05 0 2.83L4 21.41c.39.39.9.59 1.41.59.51 0 1.02-.2 1.41-.59l7.78-7.78 2.81-2.81c.8-.78.8-2.07 0-2.86zM5.41 20L4 18.59l7.72-7.72 1.47 1.35L5.41 20z\"/>\n",
              "  </svg>\n",
              "      </button>\n",
              "      \n",
              "  <style>\n",
              "    .colab-df-container {\n",
              "      display:flex;\n",
              "      flex-wrap:wrap;\n",
              "      gap: 12px;\n",
              "    }\n",
              "\n",
              "    .colab-df-convert {\n",
              "      background-color: #E8F0FE;\n",
              "      border: none;\n",
              "      border-radius: 50%;\n",
              "      cursor: pointer;\n",
              "      display: none;\n",
              "      fill: #1967D2;\n",
              "      height: 32px;\n",
              "      padding: 0 0 0 0;\n",
              "      width: 32px;\n",
              "    }\n",
              "\n",
              "    .colab-df-convert:hover {\n",
              "      background-color: #E2EBFA;\n",
              "      box-shadow: 0px 1px 2px rgba(60, 64, 67, 0.3), 0px 1px 3px 1px rgba(60, 64, 67, 0.15);\n",
              "      fill: #174EA6;\n",
              "    }\n",
              "\n",
              "    [theme=dark] .colab-df-convert {\n",
              "      background-color: #3B4455;\n",
              "      fill: #D2E3FC;\n",
              "    }\n",
              "\n",
              "    [theme=dark] .colab-df-convert:hover {\n",
              "      background-color: #434B5C;\n",
              "      box-shadow: 0px 1px 3px 1px rgba(0, 0, 0, 0.15);\n",
              "      filter: drop-shadow(0px 1px 2px rgba(0, 0, 0, 0.3));\n",
              "      fill: #FFFFFF;\n",
              "    }\n",
              "  </style>\n",
              "\n",
              "      <script>\n",
              "        const buttonEl =\n",
              "          document.querySelector('#df-3ad458f0-3228-4266-befb-739062ffad40 button.colab-df-convert');\n",
              "        buttonEl.style.display =\n",
              "          google.colab.kernel.accessAllowed ? 'block' : 'none';\n",
              "\n",
              "        async function convertToInteractive(key) {\n",
              "          const element = document.querySelector('#df-3ad458f0-3228-4266-befb-739062ffad40');\n",
              "          const dataTable =\n",
              "            await google.colab.kernel.invokeFunction('convertToInteractive',\n",
              "                                                     [key], {});\n",
              "          if (!dataTable) return;\n",
              "\n",
              "          const docLinkHtml = 'Like what you see? Visit the ' +\n",
              "            '<a target=\"_blank\" href=https://colab.research.google.com/notebooks/data_table.ipynb>data table notebook</a>'\n",
              "            + ' to learn more about interactive tables.';\n",
              "          element.innerHTML = '';\n",
              "          dataTable['output_type'] = 'display_data';\n",
              "          await google.colab.output.renderOutput(dataTable, element);\n",
              "          const docLink = document.createElement('div');\n",
              "          docLink.innerHTML = docLinkHtml;\n",
              "          element.appendChild(docLink);\n",
              "        }\n",
              "      </script>\n",
              "    </div>\n",
              "  </div>\n",
              "  "
            ],
            "text/plain": [
              "      504\n",
              "0       5\n",
              "1     139\n",
              "2     209\n",
              "3     184\n",
              "4     791\n",
              "...   ...\n",
              "8702   13\n",
              "8703   11\n",
              "8704    1\n",
              "8705   92\n",
              "8706   31\n",
              "\n",
              "[8707 rows x 1 columns]"
            ]
          },
          "metadata": {},
          "execution_count": 164
        }
      ]
    },
    {
      "cell_type": "code",
      "source": [
        "##appending the train_label dataset to train.csv as Total_booking column\n",
        "col=['Total_booking']\n",
        "df_train_label= pd.read_csv('/content/train_label.csv',header=None,names=col)\n",
        "train = df.join(df_train_label)"
      ],
      "metadata": {
        "id": "Z5Z8qBRtpnZ1"
      },
      "execution_count": null,
      "outputs": []
    },
    {
      "cell_type": "code",
      "source": [
        "train"
      ],
      "metadata": {
        "colab": {
          "base_uri": "https://localhost:8080/",
          "height": 424
        },
        "id": "nPPoV1x7pnX7",
        "outputId": "9e166376-3999-4e0c-d9a4-1510bee1e9f5"
      },
      "execution_count": null,
      "outputs": [
        {
          "output_type": "execute_result",
          "data": {
            "text/html": [
              "\n",
              "  <div id=\"df-baf84a1f-ff61-435b-9424-0ebf1c1d3c36\">\n",
              "    <div class=\"colab-df-container\">\n",
              "      <div>\n",
              "<style scoped>\n",
              "    .dataframe tbody tr th:only-of-type {\n",
              "        vertical-align: middle;\n",
              "    }\n",
              "\n",
              "    .dataframe tbody tr th {\n",
              "        vertical-align: top;\n",
              "    }\n",
              "\n",
              "    .dataframe thead th {\n",
              "        text-align: right;\n",
              "    }\n",
              "</style>\n",
              "<table border=\"1\" class=\"dataframe\">\n",
              "  <thead>\n",
              "    <tr style=\"text-align: right;\">\n",
              "      <th></th>\n",
              "      <th>datetime</th>\n",
              "      <th>season</th>\n",
              "      <th>holiday</th>\n",
              "      <th>workingday</th>\n",
              "      <th>weather</th>\n",
              "      <th>temp</th>\n",
              "      <th>atemp</th>\n",
              "      <th>humidity</th>\n",
              "      <th>windspeed</th>\n",
              "      <th>Total_booking</th>\n",
              "    </tr>\n",
              "  </thead>\n",
              "  <tbody>\n",
              "    <tr>\n",
              "      <th>0</th>\n",
              "      <td>5/2/2012 19:00</td>\n",
              "      <td>Summer</td>\n",
              "      <td>0</td>\n",
              "      <td>1</td>\n",
              "      <td>Clear + Few clouds</td>\n",
              "      <td>22.14</td>\n",
              "      <td>25.760</td>\n",
              "      <td>77</td>\n",
              "      <td>16.9979</td>\n",
              "      <td>504</td>\n",
              "    </tr>\n",
              "    <tr>\n",
              "      <th>1</th>\n",
              "      <td>9/5/2012 4:00</td>\n",
              "      <td>Fall</td>\n",
              "      <td>0</td>\n",
              "      <td>1</td>\n",
              "      <td>Clear + Few clouds</td>\n",
              "      <td>28.70</td>\n",
              "      <td>33.335</td>\n",
              "      <td>79</td>\n",
              "      <td>19.0012</td>\n",
              "      <td>5</td>\n",
              "    </tr>\n",
              "    <tr>\n",
              "      <th>2</th>\n",
              "      <td>1/13/2011 9:00</td>\n",
              "      <td>Spring</td>\n",
              "      <td>0</td>\n",
              "      <td>1</td>\n",
              "      <td>Clear + Few clouds</td>\n",
              "      <td>5.74</td>\n",
              "      <td>6.060</td>\n",
              "      <td>50</td>\n",
              "      <td>22.0028</td>\n",
              "      <td>139</td>\n",
              "    </tr>\n",
              "    <tr>\n",
              "      <th>3</th>\n",
              "      <td>11/18/2011 16:00</td>\n",
              "      <td>Winter</td>\n",
              "      <td>0</td>\n",
              "      <td>1</td>\n",
              "      <td>Clear + Few clouds</td>\n",
              "      <td>13.94</td>\n",
              "      <td>16.665</td>\n",
              "      <td>29</td>\n",
              "      <td>8.9981</td>\n",
              "      <td>209</td>\n",
              "    </tr>\n",
              "    <tr>\n",
              "      <th>4</th>\n",
              "      <td>9/13/2011 13:00</td>\n",
              "      <td>Fall</td>\n",
              "      <td>0</td>\n",
              "      <td>1</td>\n",
              "      <td>Clear + Few clouds</td>\n",
              "      <td>30.34</td>\n",
              "      <td>33.335</td>\n",
              "      <td>51</td>\n",
              "      <td>19.0012</td>\n",
              "      <td>184</td>\n",
              "    </tr>\n",
              "    <tr>\n",
              "      <th>...</th>\n",
              "      <td>...</td>\n",
              "      <td>...</td>\n",
              "      <td>...</td>\n",
              "      <td>...</td>\n",
              "      <td>...</td>\n",
              "      <td>...</td>\n",
              "      <td>...</td>\n",
              "      <td>...</td>\n",
              "      <td>...</td>\n",
              "      <td>...</td>\n",
              "    </tr>\n",
              "    <tr>\n",
              "      <th>8703</th>\n",
              "      <td>1/16/2012 6:00</td>\n",
              "      <td>Spring</td>\n",
              "      <td>1</td>\n",
              "      <td>0</td>\n",
              "      <td>Clear + Few clouds</td>\n",
              "      <td>4.10</td>\n",
              "      <td>6.820</td>\n",
              "      <td>54</td>\n",
              "      <td>6.0032</td>\n",
              "      <td>13</td>\n",
              "    </tr>\n",
              "    <tr>\n",
              "      <th>8704</th>\n",
              "      <td>11/10/2011 1:00</td>\n",
              "      <td>Winter</td>\n",
              "      <td>0</td>\n",
              "      <td>1</td>\n",
              "      <td>Mist + Cloudy</td>\n",
              "      <td>16.40</td>\n",
              "      <td>20.455</td>\n",
              "      <td>87</td>\n",
              "      <td>0.0000</td>\n",
              "      <td>11</td>\n",
              "    </tr>\n",
              "    <tr>\n",
              "      <th>8705</th>\n",
              "      <td>4/12/2011 3:00</td>\n",
              "      <td>Summer</td>\n",
              "      <td>0</td>\n",
              "      <td>1</td>\n",
              "      <td>Mist + Cloudy</td>\n",
              "      <td>23.78</td>\n",
              "      <td>27.275</td>\n",
              "      <td>56</td>\n",
              "      <td>8.9981</td>\n",
              "      <td>1</td>\n",
              "    </tr>\n",
              "    <tr>\n",
              "      <th>8706</th>\n",
              "      <td>11/7/2012 1:00</td>\n",
              "      <td>Winter</td>\n",
              "      <td>0</td>\n",
              "      <td>1</td>\n",
              "      <td>Mist + Cloudy</td>\n",
              "      <td>11.48</td>\n",
              "      <td>13.635</td>\n",
              "      <td>61</td>\n",
              "      <td>16.9979</td>\n",
              "      <td>92</td>\n",
              "    </tr>\n",
              "    <tr>\n",
              "      <th>8707</th>\n",
              "      <td>1/10/2011 10:00</td>\n",
              "      <td>Spring</td>\n",
              "      <td>0</td>\n",
              "      <td>1</td>\n",
              "      <td>Mist + Cloudy</td>\n",
              "      <td>5.74</td>\n",
              "      <td>6.060</td>\n",
              "      <td>50</td>\n",
              "      <td>19.9995</td>\n",
              "      <td>31</td>\n",
              "    </tr>\n",
              "  </tbody>\n",
              "</table>\n",
              "<p>8708 rows × 10 columns</p>\n",
              "</div>\n",
              "      <button class=\"colab-df-convert\" onclick=\"convertToInteractive('df-baf84a1f-ff61-435b-9424-0ebf1c1d3c36')\"\n",
              "              title=\"Convert this dataframe to an interactive table.\"\n",
              "              style=\"display:none;\">\n",
              "        \n",
              "  <svg xmlns=\"http://www.w3.org/2000/svg\" height=\"24px\"viewBox=\"0 0 24 24\"\n",
              "       width=\"24px\">\n",
              "    <path d=\"M0 0h24v24H0V0z\" fill=\"none\"/>\n",
              "    <path d=\"M18.56 5.44l.94 2.06.94-2.06 2.06-.94-2.06-.94-.94-2.06-.94 2.06-2.06.94zm-11 1L8.5 8.5l.94-2.06 2.06-.94-2.06-.94L8.5 2.5l-.94 2.06-2.06.94zm10 10l.94 2.06.94-2.06 2.06-.94-2.06-.94-.94-2.06-.94 2.06-2.06.94z\"/><path d=\"M17.41 7.96l-1.37-1.37c-.4-.4-.92-.59-1.43-.59-.52 0-1.04.2-1.43.59L10.3 9.45l-7.72 7.72c-.78.78-.78 2.05 0 2.83L4 21.41c.39.39.9.59 1.41.59.51 0 1.02-.2 1.41-.59l7.78-7.78 2.81-2.81c.8-.78.8-2.07 0-2.86zM5.41 20L4 18.59l7.72-7.72 1.47 1.35L5.41 20z\"/>\n",
              "  </svg>\n",
              "      </button>\n",
              "      \n",
              "  <style>\n",
              "    .colab-df-container {\n",
              "      display:flex;\n",
              "      flex-wrap:wrap;\n",
              "      gap: 12px;\n",
              "    }\n",
              "\n",
              "    .colab-df-convert {\n",
              "      background-color: #E8F0FE;\n",
              "      border: none;\n",
              "      border-radius: 50%;\n",
              "      cursor: pointer;\n",
              "      display: none;\n",
              "      fill: #1967D2;\n",
              "      height: 32px;\n",
              "      padding: 0 0 0 0;\n",
              "      width: 32px;\n",
              "    }\n",
              "\n",
              "    .colab-df-convert:hover {\n",
              "      background-color: #E2EBFA;\n",
              "      box-shadow: 0px 1px 2px rgba(60, 64, 67, 0.3), 0px 1px 3px 1px rgba(60, 64, 67, 0.15);\n",
              "      fill: #174EA6;\n",
              "    }\n",
              "\n",
              "    [theme=dark] .colab-df-convert {\n",
              "      background-color: #3B4455;\n",
              "      fill: #D2E3FC;\n",
              "    }\n",
              "\n",
              "    [theme=dark] .colab-df-convert:hover {\n",
              "      background-color: #434B5C;\n",
              "      box-shadow: 0px 1px 3px 1px rgba(0, 0, 0, 0.15);\n",
              "      filter: drop-shadow(0px 1px 2px rgba(0, 0, 0, 0.3));\n",
              "      fill: #FFFFFF;\n",
              "    }\n",
              "  </style>\n",
              "\n",
              "      <script>\n",
              "        const buttonEl =\n",
              "          document.querySelector('#df-baf84a1f-ff61-435b-9424-0ebf1c1d3c36 button.colab-df-convert');\n",
              "        buttonEl.style.display =\n",
              "          google.colab.kernel.accessAllowed ? 'block' : 'none';\n",
              "\n",
              "        async function convertToInteractive(key) {\n",
              "          const element = document.querySelector('#df-baf84a1f-ff61-435b-9424-0ebf1c1d3c36');\n",
              "          const dataTable =\n",
              "            await google.colab.kernel.invokeFunction('convertToInteractive',\n",
              "                                                     [key], {});\n",
              "          if (!dataTable) return;\n",
              "\n",
              "          const docLinkHtml = 'Like what you see? Visit the ' +\n",
              "            '<a target=\"_blank\" href=https://colab.research.google.com/notebooks/data_table.ipynb>data table notebook</a>'\n",
              "            + ' to learn more about interactive tables.';\n",
              "          element.innerHTML = '';\n",
              "          dataTable['output_type'] = 'display_data';\n",
              "          await google.colab.output.renderOutput(dataTable, element);\n",
              "          const docLink = document.createElement('div');\n",
              "          docLink.innerHTML = docLinkHtml;\n",
              "          element.appendChild(docLink);\n",
              "        }\n",
              "      </script>\n",
              "    </div>\n",
              "  </div>\n",
              "  "
            ],
            "text/plain": [
              "              datetime  season  holiday  ...  humidity windspeed  Total_booking\n",
              "0       5/2/2012 19:00  Summer        0  ...        77   16.9979            504\n",
              "1        9/5/2012 4:00    Fall        0  ...        79   19.0012              5\n",
              "2       1/13/2011 9:00  Spring        0  ...        50   22.0028            139\n",
              "3     11/18/2011 16:00  Winter        0  ...        29    8.9981            209\n",
              "4      9/13/2011 13:00    Fall        0  ...        51   19.0012            184\n",
              "...                ...     ...      ...  ...       ...       ...            ...\n",
              "8703    1/16/2012 6:00  Spring        1  ...        54    6.0032             13\n",
              "8704   11/10/2011 1:00  Winter        0  ...        87    0.0000             11\n",
              "8705    4/12/2011 3:00  Summer        0  ...        56    8.9981              1\n",
              "8706    11/7/2012 1:00  Winter        0  ...        61   16.9979             92\n",
              "8707   1/10/2011 10:00  Spring        0  ...        50   19.9995             31\n",
              "\n",
              "[8708 rows x 10 columns]"
            ]
          },
          "metadata": {},
          "execution_count": 166
        }
      ]
    },
    {
      "cell_type": "code",
      "source": [
        "df_test=pd.read_csv('/content/test.csv')\n",
        "df_test"
      ],
      "metadata": {
        "colab": {
          "base_uri": "https://localhost:8080/",
          "height": 424
        },
        "id": "Ez8yP3uHqOkN",
        "outputId": "e873849e-3791-43c5-aa00-f66ef387195b"
      },
      "execution_count": null,
      "outputs": [
        {
          "output_type": "execute_result",
          "data": {
            "text/html": [
              "\n",
              "  <div id=\"df-2b0274ad-ede8-40a5-ae8b-764b2a66ad6a\">\n",
              "    <div class=\"colab-df-container\">\n",
              "      <div>\n",
              "<style scoped>\n",
              "    .dataframe tbody tr th:only-of-type {\n",
              "        vertical-align: middle;\n",
              "    }\n",
              "\n",
              "    .dataframe tbody tr th {\n",
              "        vertical-align: top;\n",
              "    }\n",
              "\n",
              "    .dataframe thead th {\n",
              "        text-align: right;\n",
              "    }\n",
              "</style>\n",
              "<table border=\"1\" class=\"dataframe\">\n",
              "  <thead>\n",
              "    <tr style=\"text-align: right;\">\n",
              "      <th></th>\n",
              "      <th>datetime</th>\n",
              "      <th>season</th>\n",
              "      <th>holiday</th>\n",
              "      <th>workingday</th>\n",
              "      <th>weather</th>\n",
              "      <th>temp</th>\n",
              "      <th>atemp</th>\n",
              "      <th>humidity</th>\n",
              "      <th>windspeed</th>\n",
              "    </tr>\n",
              "  </thead>\n",
              "  <tbody>\n",
              "    <tr>\n",
              "      <th>0</th>\n",
              "      <td>5/10/2012 11:00</td>\n",
              "      <td>Summer</td>\n",
              "      <td>0</td>\n",
              "      <td>1</td>\n",
              "      <td>Clear + Few clouds</td>\n",
              "      <td>21.32</td>\n",
              "      <td>25.000</td>\n",
              "      <td>48</td>\n",
              "      <td>35.0008</td>\n",
              "    </tr>\n",
              "    <tr>\n",
              "      <th>1</th>\n",
              "      <td>6/9/2012 7:00</td>\n",
              "      <td>Summer</td>\n",
              "      <td>0</td>\n",
              "      <td>0</td>\n",
              "      <td>Clear + Few clouds</td>\n",
              "      <td>23.78</td>\n",
              "      <td>27.275</td>\n",
              "      <td>64</td>\n",
              "      <td>7.0015</td>\n",
              "    </tr>\n",
              "    <tr>\n",
              "      <th>2</th>\n",
              "      <td>3/6/2011 20:00</td>\n",
              "      <td>Spring</td>\n",
              "      <td>0</td>\n",
              "      <td>0</td>\n",
              "      <td>Light Snow, Light Rain</td>\n",
              "      <td>11.48</td>\n",
              "      <td>12.120</td>\n",
              "      <td>100</td>\n",
              "      <td>27.9993</td>\n",
              "    </tr>\n",
              "    <tr>\n",
              "      <th>3</th>\n",
              "      <td>10/13/2011 11:00</td>\n",
              "      <td>Winter</td>\n",
              "      <td>0</td>\n",
              "      <td>1</td>\n",
              "      <td>Mist + Cloudy</td>\n",
              "      <td>25.42</td>\n",
              "      <td>28.790</td>\n",
              "      <td>83</td>\n",
              "      <td>0.0000</td>\n",
              "    </tr>\n",
              "    <tr>\n",
              "      <th>4</th>\n",
              "      <td>6/2/2012 12:00</td>\n",
              "      <td>Summer</td>\n",
              "      <td>0</td>\n",
              "      <td>0</td>\n",
              "      <td>Clear + Few clouds</td>\n",
              "      <td>25.42</td>\n",
              "      <td>31.060</td>\n",
              "      <td>43</td>\n",
              "      <td>23.9994</td>\n",
              "    </tr>\n",
              "    <tr>\n",
              "      <th>...</th>\n",
              "      <td>...</td>\n",
              "      <td>...</td>\n",
              "      <td>...</td>\n",
              "      <td>...</td>\n",
              "      <td>...</td>\n",
              "      <td>...</td>\n",
              "      <td>...</td>\n",
              "      <td>...</td>\n",
              "      <td>...</td>\n",
              "    </tr>\n",
              "    <tr>\n",
              "      <th>2173</th>\n",
              "      <td>3/8/2012 3:00</td>\n",
              "      <td>Spring</td>\n",
              "      <td>0</td>\n",
              "      <td>1</td>\n",
              "      <td>Clear + Few clouds</td>\n",
              "      <td>18.86</td>\n",
              "      <td>22.725</td>\n",
              "      <td>63</td>\n",
              "      <td>26.0027</td>\n",
              "    </tr>\n",
              "    <tr>\n",
              "      <th>2174</th>\n",
              "      <td>1/12/2012 12:00</td>\n",
              "      <td>Spring</td>\n",
              "      <td>0</td>\n",
              "      <td>1</td>\n",
              "      <td>Mist + Cloudy</td>\n",
              "      <td>13.94</td>\n",
              "      <td>17.425</td>\n",
              "      <td>81</td>\n",
              "      <td>7.0015</td>\n",
              "    </tr>\n",
              "    <tr>\n",
              "      <th>2175</th>\n",
              "      <td>3/7/2012 22:00</td>\n",
              "      <td>Spring</td>\n",
              "      <td>0</td>\n",
              "      <td>1</td>\n",
              "      <td>Clear + Few clouds</td>\n",
              "      <td>18.86</td>\n",
              "      <td>22.725</td>\n",
              "      <td>59</td>\n",
              "      <td>19.9995</td>\n",
              "    </tr>\n",
              "    <tr>\n",
              "      <th>2176</th>\n",
              "      <td>5/12/2011 5:00</td>\n",
              "      <td>Summer</td>\n",
              "      <td>0</td>\n",
              "      <td>1</td>\n",
              "      <td>Clear + Few clouds</td>\n",
              "      <td>17.22</td>\n",
              "      <td>21.210</td>\n",
              "      <td>94</td>\n",
              "      <td>8.9981</td>\n",
              "    </tr>\n",
              "    <tr>\n",
              "      <th>2177</th>\n",
              "      <td>7/18/2012 16:00</td>\n",
              "      <td>Fall</td>\n",
              "      <td>0</td>\n",
              "      <td>1</td>\n",
              "      <td>Clear + Few clouds</td>\n",
              "      <td>30.34</td>\n",
              "      <td>34.850</td>\n",
              "      <td>66</td>\n",
              "      <td>16.9979</td>\n",
              "    </tr>\n",
              "  </tbody>\n",
              "</table>\n",
              "<p>2178 rows × 9 columns</p>\n",
              "</div>\n",
              "      <button class=\"colab-df-convert\" onclick=\"convertToInteractive('df-2b0274ad-ede8-40a5-ae8b-764b2a66ad6a')\"\n",
              "              title=\"Convert this dataframe to an interactive table.\"\n",
              "              style=\"display:none;\">\n",
              "        \n",
              "  <svg xmlns=\"http://www.w3.org/2000/svg\" height=\"24px\"viewBox=\"0 0 24 24\"\n",
              "       width=\"24px\">\n",
              "    <path d=\"M0 0h24v24H0V0z\" fill=\"none\"/>\n",
              "    <path d=\"M18.56 5.44l.94 2.06.94-2.06 2.06-.94-2.06-.94-.94-2.06-.94 2.06-2.06.94zm-11 1L8.5 8.5l.94-2.06 2.06-.94-2.06-.94L8.5 2.5l-.94 2.06-2.06.94zm10 10l.94 2.06.94-2.06 2.06-.94-2.06-.94-.94-2.06-.94 2.06-2.06.94z\"/><path d=\"M17.41 7.96l-1.37-1.37c-.4-.4-.92-.59-1.43-.59-.52 0-1.04.2-1.43.59L10.3 9.45l-7.72 7.72c-.78.78-.78 2.05 0 2.83L4 21.41c.39.39.9.59 1.41.59.51 0 1.02-.2 1.41-.59l7.78-7.78 2.81-2.81c.8-.78.8-2.07 0-2.86zM5.41 20L4 18.59l7.72-7.72 1.47 1.35L5.41 20z\"/>\n",
              "  </svg>\n",
              "      </button>\n",
              "      \n",
              "  <style>\n",
              "    .colab-df-container {\n",
              "      display:flex;\n",
              "      flex-wrap:wrap;\n",
              "      gap: 12px;\n",
              "    }\n",
              "\n",
              "    .colab-df-convert {\n",
              "      background-color: #E8F0FE;\n",
              "      border: none;\n",
              "      border-radius: 50%;\n",
              "      cursor: pointer;\n",
              "      display: none;\n",
              "      fill: #1967D2;\n",
              "      height: 32px;\n",
              "      padding: 0 0 0 0;\n",
              "      width: 32px;\n",
              "    }\n",
              "\n",
              "    .colab-df-convert:hover {\n",
              "      background-color: #E2EBFA;\n",
              "      box-shadow: 0px 1px 2px rgba(60, 64, 67, 0.3), 0px 1px 3px 1px rgba(60, 64, 67, 0.15);\n",
              "      fill: #174EA6;\n",
              "    }\n",
              "\n",
              "    [theme=dark] .colab-df-convert {\n",
              "      background-color: #3B4455;\n",
              "      fill: #D2E3FC;\n",
              "    }\n",
              "\n",
              "    [theme=dark] .colab-df-convert:hover {\n",
              "      background-color: #434B5C;\n",
              "      box-shadow: 0px 1px 3px 1px rgba(0, 0, 0, 0.15);\n",
              "      filter: drop-shadow(0px 1px 2px rgba(0, 0, 0, 0.3));\n",
              "      fill: #FFFFFF;\n",
              "    }\n",
              "  </style>\n",
              "\n",
              "      <script>\n",
              "        const buttonEl =\n",
              "          document.querySelector('#df-2b0274ad-ede8-40a5-ae8b-764b2a66ad6a button.colab-df-convert');\n",
              "        buttonEl.style.display =\n",
              "          google.colab.kernel.accessAllowed ? 'block' : 'none';\n",
              "\n",
              "        async function convertToInteractive(key) {\n",
              "          const element = document.querySelector('#df-2b0274ad-ede8-40a5-ae8b-764b2a66ad6a');\n",
              "          const dataTable =\n",
              "            await google.colab.kernel.invokeFunction('convertToInteractive',\n",
              "                                                     [key], {});\n",
              "          if (!dataTable) return;\n",
              "\n",
              "          const docLinkHtml = 'Like what you see? Visit the ' +\n",
              "            '<a target=\"_blank\" href=https://colab.research.google.com/notebooks/data_table.ipynb>data table notebook</a>'\n",
              "            + ' to learn more about interactive tables.';\n",
              "          element.innerHTML = '';\n",
              "          dataTable['output_type'] = 'display_data';\n",
              "          await google.colab.output.renderOutput(dataTable, element);\n",
              "          const docLink = document.createElement('div');\n",
              "          docLink.innerHTML = docLinkHtml;\n",
              "          element.appendChild(docLink);\n",
              "        }\n",
              "      </script>\n",
              "    </div>\n",
              "  </div>\n",
              "  "
            ],
            "text/plain": [
              "              datetime  season  holiday  ...   atemp humidity  windspeed\n",
              "0      5/10/2012 11:00  Summer        0  ...  25.000       48    35.0008\n",
              "1        6/9/2012 7:00  Summer        0  ...  27.275       64     7.0015\n",
              "2       3/6/2011 20:00  Spring        0  ...  12.120      100    27.9993\n",
              "3     10/13/2011 11:00  Winter        0  ...  28.790       83     0.0000\n",
              "4       6/2/2012 12:00  Summer        0  ...  31.060       43    23.9994\n",
              "...                ...     ...      ...  ...     ...      ...        ...\n",
              "2173     3/8/2012 3:00  Spring        0  ...  22.725       63    26.0027\n",
              "2174   1/12/2012 12:00  Spring        0  ...  17.425       81     7.0015\n",
              "2175    3/7/2012 22:00  Spring        0  ...  22.725       59    19.9995\n",
              "2176    5/12/2011 5:00  Summer        0  ...  21.210       94     8.9981\n",
              "2177   7/18/2012 16:00    Fall        0  ...  34.850       66    16.9979\n",
              "\n",
              "[2178 rows x 9 columns]"
            ]
          },
          "metadata": {},
          "execution_count": 167
        }
      ]
    },
    {
      "cell_type": "code",
      "source": [
        "df_test_label=pd.read_csv('/content/test_label.csv')\n",
        "df_test_label"
      ],
      "metadata": {
        "colab": {
          "base_uri": "https://localhost:8080/",
          "height": 424
        },
        "id": "_iKDusGRrNyu",
        "outputId": "83e01855-83ac-4ccb-f88c-861e6970af2c"
      },
      "execution_count": null,
      "outputs": [
        {
          "output_type": "execute_result",
          "data": {
            "text/html": [
              "\n",
              "  <div id=\"df-a04a6fc9-0445-4d4e-aecb-d1b2b45b790f\">\n",
              "    <div class=\"colab-df-container\">\n",
              "      <div>\n",
              "<style scoped>\n",
              "    .dataframe tbody tr th:only-of-type {\n",
              "        vertical-align: middle;\n",
              "    }\n",
              "\n",
              "    .dataframe tbody tr th {\n",
              "        vertical-align: top;\n",
              "    }\n",
              "\n",
              "    .dataframe thead th {\n",
              "        text-align: right;\n",
              "    }\n",
              "</style>\n",
              "<table border=\"1\" class=\"dataframe\">\n",
              "  <thead>\n",
              "    <tr style=\"text-align: right;\">\n",
              "      <th></th>\n",
              "      <th>256</th>\n",
              "    </tr>\n",
              "  </thead>\n",
              "  <tbody>\n",
              "    <tr>\n",
              "      <th>0</th>\n",
              "      <td>87</td>\n",
              "    </tr>\n",
              "    <tr>\n",
              "      <th>1</th>\n",
              "      <td>11</td>\n",
              "    </tr>\n",
              "    <tr>\n",
              "      <th>2</th>\n",
              "      <td>84</td>\n",
              "    </tr>\n",
              "    <tr>\n",
              "      <th>3</th>\n",
              "      <td>668</td>\n",
              "    </tr>\n",
              "    <tr>\n",
              "      <th>4</th>\n",
              "      <td>53</td>\n",
              "    </tr>\n",
              "    <tr>\n",
              "      <th>...</th>\n",
              "      <td>...</td>\n",
              "    </tr>\n",
              "    <tr>\n",
              "      <th>2172</th>\n",
              "      <td>3</td>\n",
              "    </tr>\n",
              "    <tr>\n",
              "      <th>2173</th>\n",
              "      <td>144</td>\n",
              "    </tr>\n",
              "    <tr>\n",
              "      <th>2174</th>\n",
              "      <td>159</td>\n",
              "    </tr>\n",
              "    <tr>\n",
              "      <th>2175</th>\n",
              "      <td>29</td>\n",
              "    </tr>\n",
              "    <tr>\n",
              "      <th>2176</th>\n",
              "      <td>224</td>\n",
              "    </tr>\n",
              "  </tbody>\n",
              "</table>\n",
              "<p>2177 rows × 1 columns</p>\n",
              "</div>\n",
              "      <button class=\"colab-df-convert\" onclick=\"convertToInteractive('df-a04a6fc9-0445-4d4e-aecb-d1b2b45b790f')\"\n",
              "              title=\"Convert this dataframe to an interactive table.\"\n",
              "              style=\"display:none;\">\n",
              "        \n",
              "  <svg xmlns=\"http://www.w3.org/2000/svg\" height=\"24px\"viewBox=\"0 0 24 24\"\n",
              "       width=\"24px\">\n",
              "    <path d=\"M0 0h24v24H0V0z\" fill=\"none\"/>\n",
              "    <path d=\"M18.56 5.44l.94 2.06.94-2.06 2.06-.94-2.06-.94-.94-2.06-.94 2.06-2.06.94zm-11 1L8.5 8.5l.94-2.06 2.06-.94-2.06-.94L8.5 2.5l-.94 2.06-2.06.94zm10 10l.94 2.06.94-2.06 2.06-.94-2.06-.94-.94-2.06-.94 2.06-2.06.94z\"/><path d=\"M17.41 7.96l-1.37-1.37c-.4-.4-.92-.59-1.43-.59-.52 0-1.04.2-1.43.59L10.3 9.45l-7.72 7.72c-.78.78-.78 2.05 0 2.83L4 21.41c.39.39.9.59 1.41.59.51 0 1.02-.2 1.41-.59l7.78-7.78 2.81-2.81c.8-.78.8-2.07 0-2.86zM5.41 20L4 18.59l7.72-7.72 1.47 1.35L5.41 20z\"/>\n",
              "  </svg>\n",
              "      </button>\n",
              "      \n",
              "  <style>\n",
              "    .colab-df-container {\n",
              "      display:flex;\n",
              "      flex-wrap:wrap;\n",
              "      gap: 12px;\n",
              "    }\n",
              "\n",
              "    .colab-df-convert {\n",
              "      background-color: #E8F0FE;\n",
              "      border: none;\n",
              "      border-radius: 50%;\n",
              "      cursor: pointer;\n",
              "      display: none;\n",
              "      fill: #1967D2;\n",
              "      height: 32px;\n",
              "      padding: 0 0 0 0;\n",
              "      width: 32px;\n",
              "    }\n",
              "\n",
              "    .colab-df-convert:hover {\n",
              "      background-color: #E2EBFA;\n",
              "      box-shadow: 0px 1px 2px rgba(60, 64, 67, 0.3), 0px 1px 3px 1px rgba(60, 64, 67, 0.15);\n",
              "      fill: #174EA6;\n",
              "    }\n",
              "\n",
              "    [theme=dark] .colab-df-convert {\n",
              "      background-color: #3B4455;\n",
              "      fill: #D2E3FC;\n",
              "    }\n",
              "\n",
              "    [theme=dark] .colab-df-convert:hover {\n",
              "      background-color: #434B5C;\n",
              "      box-shadow: 0px 1px 3px 1px rgba(0, 0, 0, 0.15);\n",
              "      filter: drop-shadow(0px 1px 2px rgba(0, 0, 0, 0.3));\n",
              "      fill: #FFFFFF;\n",
              "    }\n",
              "  </style>\n",
              "\n",
              "      <script>\n",
              "        const buttonEl =\n",
              "          document.querySelector('#df-a04a6fc9-0445-4d4e-aecb-d1b2b45b790f button.colab-df-convert');\n",
              "        buttonEl.style.display =\n",
              "          google.colab.kernel.accessAllowed ? 'block' : 'none';\n",
              "\n",
              "        async function convertToInteractive(key) {\n",
              "          const element = document.querySelector('#df-a04a6fc9-0445-4d4e-aecb-d1b2b45b790f');\n",
              "          const dataTable =\n",
              "            await google.colab.kernel.invokeFunction('convertToInteractive',\n",
              "                                                     [key], {});\n",
              "          if (!dataTable) return;\n",
              "\n",
              "          const docLinkHtml = 'Like what you see? Visit the ' +\n",
              "            '<a target=\"_blank\" href=https://colab.research.google.com/notebooks/data_table.ipynb>data table notebook</a>'\n",
              "            + ' to learn more about interactive tables.';\n",
              "          element.innerHTML = '';\n",
              "          dataTable['output_type'] = 'display_data';\n",
              "          await google.colab.output.renderOutput(dataTable, element);\n",
              "          const docLink = document.createElement('div');\n",
              "          docLink.innerHTML = docLinkHtml;\n",
              "          element.appendChild(docLink);\n",
              "        }\n",
              "      </script>\n",
              "    </div>\n",
              "  </div>\n",
              "  "
            ],
            "text/plain": [
              "      256\n",
              "0      87\n",
              "1      11\n",
              "2      84\n",
              "3     668\n",
              "4      53\n",
              "...   ...\n",
              "2172    3\n",
              "2173  144\n",
              "2174  159\n",
              "2175   29\n",
              "2176  224\n",
              "\n",
              "[2177 rows x 1 columns]"
            ]
          },
          "metadata": {},
          "execution_count": 168
        }
      ]
    },
    {
      "cell_type": "code",
      "source": [
        "col=['Total_booking']\n",
        "df_test_label=pd.read_csv('/content/test_label.csv',header=None,names=col)\n",
        "test=df_test.join(df_test_label)"
      ],
      "metadata": {
        "id": "yOkrjnAXqOhK"
      },
      "execution_count": null,
      "outputs": []
    },
    {
      "cell_type": "code",
      "source": [
        "test"
      ],
      "metadata": {
        "colab": {
          "base_uri": "https://localhost:8080/",
          "height": 424
        },
        "id": "70WJa3S3qOH0",
        "outputId": "bfc367b2-e433-46cd-c785-412fca06f06e"
      },
      "execution_count": null,
      "outputs": [
        {
          "output_type": "execute_result",
          "data": {
            "text/html": [
              "\n",
              "  <div id=\"df-ada8c251-a3b6-40dd-beab-7c44f2532367\">\n",
              "    <div class=\"colab-df-container\">\n",
              "      <div>\n",
              "<style scoped>\n",
              "    .dataframe tbody tr th:only-of-type {\n",
              "        vertical-align: middle;\n",
              "    }\n",
              "\n",
              "    .dataframe tbody tr th {\n",
              "        vertical-align: top;\n",
              "    }\n",
              "\n",
              "    .dataframe thead th {\n",
              "        text-align: right;\n",
              "    }\n",
              "</style>\n",
              "<table border=\"1\" class=\"dataframe\">\n",
              "  <thead>\n",
              "    <tr style=\"text-align: right;\">\n",
              "      <th></th>\n",
              "      <th>datetime</th>\n",
              "      <th>season</th>\n",
              "      <th>holiday</th>\n",
              "      <th>workingday</th>\n",
              "      <th>weather</th>\n",
              "      <th>temp</th>\n",
              "      <th>atemp</th>\n",
              "      <th>humidity</th>\n",
              "      <th>windspeed</th>\n",
              "      <th>Total_booking</th>\n",
              "    </tr>\n",
              "  </thead>\n",
              "  <tbody>\n",
              "    <tr>\n",
              "      <th>0</th>\n",
              "      <td>5/10/2012 11:00</td>\n",
              "      <td>Summer</td>\n",
              "      <td>0</td>\n",
              "      <td>1</td>\n",
              "      <td>Clear + Few clouds</td>\n",
              "      <td>21.32</td>\n",
              "      <td>25.000</td>\n",
              "      <td>48</td>\n",
              "      <td>35.0008</td>\n",
              "      <td>256</td>\n",
              "    </tr>\n",
              "    <tr>\n",
              "      <th>1</th>\n",
              "      <td>6/9/2012 7:00</td>\n",
              "      <td>Summer</td>\n",
              "      <td>0</td>\n",
              "      <td>0</td>\n",
              "      <td>Clear + Few clouds</td>\n",
              "      <td>23.78</td>\n",
              "      <td>27.275</td>\n",
              "      <td>64</td>\n",
              "      <td>7.0015</td>\n",
              "      <td>87</td>\n",
              "    </tr>\n",
              "    <tr>\n",
              "      <th>2</th>\n",
              "      <td>3/6/2011 20:00</td>\n",
              "      <td>Spring</td>\n",
              "      <td>0</td>\n",
              "      <td>0</td>\n",
              "      <td>Light Snow, Light Rain</td>\n",
              "      <td>11.48</td>\n",
              "      <td>12.120</td>\n",
              "      <td>100</td>\n",
              "      <td>27.9993</td>\n",
              "      <td>11</td>\n",
              "    </tr>\n",
              "    <tr>\n",
              "      <th>3</th>\n",
              "      <td>10/13/2011 11:00</td>\n",
              "      <td>Winter</td>\n",
              "      <td>0</td>\n",
              "      <td>1</td>\n",
              "      <td>Mist + Cloudy</td>\n",
              "      <td>25.42</td>\n",
              "      <td>28.790</td>\n",
              "      <td>83</td>\n",
              "      <td>0.0000</td>\n",
              "      <td>84</td>\n",
              "    </tr>\n",
              "    <tr>\n",
              "      <th>4</th>\n",
              "      <td>6/2/2012 12:00</td>\n",
              "      <td>Summer</td>\n",
              "      <td>0</td>\n",
              "      <td>0</td>\n",
              "      <td>Clear + Few clouds</td>\n",
              "      <td>25.42</td>\n",
              "      <td>31.060</td>\n",
              "      <td>43</td>\n",
              "      <td>23.9994</td>\n",
              "      <td>668</td>\n",
              "    </tr>\n",
              "    <tr>\n",
              "      <th>...</th>\n",
              "      <td>...</td>\n",
              "      <td>...</td>\n",
              "      <td>...</td>\n",
              "      <td>...</td>\n",
              "      <td>...</td>\n",
              "      <td>...</td>\n",
              "      <td>...</td>\n",
              "      <td>...</td>\n",
              "      <td>...</td>\n",
              "      <td>...</td>\n",
              "    </tr>\n",
              "    <tr>\n",
              "      <th>2173</th>\n",
              "      <td>3/8/2012 3:00</td>\n",
              "      <td>Spring</td>\n",
              "      <td>0</td>\n",
              "      <td>1</td>\n",
              "      <td>Clear + Few clouds</td>\n",
              "      <td>18.86</td>\n",
              "      <td>22.725</td>\n",
              "      <td>63</td>\n",
              "      <td>26.0027</td>\n",
              "      <td>3</td>\n",
              "    </tr>\n",
              "    <tr>\n",
              "      <th>2174</th>\n",
              "      <td>1/12/2012 12:00</td>\n",
              "      <td>Spring</td>\n",
              "      <td>0</td>\n",
              "      <td>1</td>\n",
              "      <td>Mist + Cloudy</td>\n",
              "      <td>13.94</td>\n",
              "      <td>17.425</td>\n",
              "      <td>81</td>\n",
              "      <td>7.0015</td>\n",
              "      <td>144</td>\n",
              "    </tr>\n",
              "    <tr>\n",
              "      <th>2175</th>\n",
              "      <td>3/7/2012 22:00</td>\n",
              "      <td>Spring</td>\n",
              "      <td>0</td>\n",
              "      <td>1</td>\n",
              "      <td>Clear + Few clouds</td>\n",
              "      <td>18.86</td>\n",
              "      <td>22.725</td>\n",
              "      <td>59</td>\n",
              "      <td>19.9995</td>\n",
              "      <td>159</td>\n",
              "    </tr>\n",
              "    <tr>\n",
              "      <th>2176</th>\n",
              "      <td>5/12/2011 5:00</td>\n",
              "      <td>Summer</td>\n",
              "      <td>0</td>\n",
              "      <td>1</td>\n",
              "      <td>Clear + Few clouds</td>\n",
              "      <td>17.22</td>\n",
              "      <td>21.210</td>\n",
              "      <td>94</td>\n",
              "      <td>8.9981</td>\n",
              "      <td>29</td>\n",
              "    </tr>\n",
              "    <tr>\n",
              "      <th>2177</th>\n",
              "      <td>7/18/2012 16:00</td>\n",
              "      <td>Fall</td>\n",
              "      <td>0</td>\n",
              "      <td>1</td>\n",
              "      <td>Clear + Few clouds</td>\n",
              "      <td>30.34</td>\n",
              "      <td>34.850</td>\n",
              "      <td>66</td>\n",
              "      <td>16.9979</td>\n",
              "      <td>224</td>\n",
              "    </tr>\n",
              "  </tbody>\n",
              "</table>\n",
              "<p>2178 rows × 10 columns</p>\n",
              "</div>\n",
              "      <button class=\"colab-df-convert\" onclick=\"convertToInteractive('df-ada8c251-a3b6-40dd-beab-7c44f2532367')\"\n",
              "              title=\"Convert this dataframe to an interactive table.\"\n",
              "              style=\"display:none;\">\n",
              "        \n",
              "  <svg xmlns=\"http://www.w3.org/2000/svg\" height=\"24px\"viewBox=\"0 0 24 24\"\n",
              "       width=\"24px\">\n",
              "    <path d=\"M0 0h24v24H0V0z\" fill=\"none\"/>\n",
              "    <path d=\"M18.56 5.44l.94 2.06.94-2.06 2.06-.94-2.06-.94-.94-2.06-.94 2.06-2.06.94zm-11 1L8.5 8.5l.94-2.06 2.06-.94-2.06-.94L8.5 2.5l-.94 2.06-2.06.94zm10 10l.94 2.06.94-2.06 2.06-.94-2.06-.94-.94-2.06-.94 2.06-2.06.94z\"/><path d=\"M17.41 7.96l-1.37-1.37c-.4-.4-.92-.59-1.43-.59-.52 0-1.04.2-1.43.59L10.3 9.45l-7.72 7.72c-.78.78-.78 2.05 0 2.83L4 21.41c.39.39.9.59 1.41.59.51 0 1.02-.2 1.41-.59l7.78-7.78 2.81-2.81c.8-.78.8-2.07 0-2.86zM5.41 20L4 18.59l7.72-7.72 1.47 1.35L5.41 20z\"/>\n",
              "  </svg>\n",
              "      </button>\n",
              "      \n",
              "  <style>\n",
              "    .colab-df-container {\n",
              "      display:flex;\n",
              "      flex-wrap:wrap;\n",
              "      gap: 12px;\n",
              "    }\n",
              "\n",
              "    .colab-df-convert {\n",
              "      background-color: #E8F0FE;\n",
              "      border: none;\n",
              "      border-radius: 50%;\n",
              "      cursor: pointer;\n",
              "      display: none;\n",
              "      fill: #1967D2;\n",
              "      height: 32px;\n",
              "      padding: 0 0 0 0;\n",
              "      width: 32px;\n",
              "    }\n",
              "\n",
              "    .colab-df-convert:hover {\n",
              "      background-color: #E2EBFA;\n",
              "      box-shadow: 0px 1px 2px rgba(60, 64, 67, 0.3), 0px 1px 3px 1px rgba(60, 64, 67, 0.15);\n",
              "      fill: #174EA6;\n",
              "    }\n",
              "\n",
              "    [theme=dark] .colab-df-convert {\n",
              "      background-color: #3B4455;\n",
              "      fill: #D2E3FC;\n",
              "    }\n",
              "\n",
              "    [theme=dark] .colab-df-convert:hover {\n",
              "      background-color: #434B5C;\n",
              "      box-shadow: 0px 1px 3px 1px rgba(0, 0, 0, 0.15);\n",
              "      filter: drop-shadow(0px 1px 2px rgba(0, 0, 0, 0.3));\n",
              "      fill: #FFFFFF;\n",
              "    }\n",
              "  </style>\n",
              "\n",
              "      <script>\n",
              "        const buttonEl =\n",
              "          document.querySelector('#df-ada8c251-a3b6-40dd-beab-7c44f2532367 button.colab-df-convert');\n",
              "        buttonEl.style.display =\n",
              "          google.colab.kernel.accessAllowed ? 'block' : 'none';\n",
              "\n",
              "        async function convertToInteractive(key) {\n",
              "          const element = document.querySelector('#df-ada8c251-a3b6-40dd-beab-7c44f2532367');\n",
              "          const dataTable =\n",
              "            await google.colab.kernel.invokeFunction('convertToInteractive',\n",
              "                                                     [key], {});\n",
              "          if (!dataTable) return;\n",
              "\n",
              "          const docLinkHtml = 'Like what you see? Visit the ' +\n",
              "            '<a target=\"_blank\" href=https://colab.research.google.com/notebooks/data_table.ipynb>data table notebook</a>'\n",
              "            + ' to learn more about interactive tables.';\n",
              "          element.innerHTML = '';\n",
              "          dataTable['output_type'] = 'display_data';\n",
              "          await google.colab.output.renderOutput(dataTable, element);\n",
              "          const docLink = document.createElement('div');\n",
              "          docLink.innerHTML = docLinkHtml;\n",
              "          element.appendChild(docLink);\n",
              "        }\n",
              "      </script>\n",
              "    </div>\n",
              "  </div>\n",
              "  "
            ],
            "text/plain": [
              "              datetime  season  holiday  ...  humidity windspeed  Total_booking\n",
              "0      5/10/2012 11:00  Summer        0  ...        48   35.0008            256\n",
              "1        6/9/2012 7:00  Summer        0  ...        64    7.0015             87\n",
              "2       3/6/2011 20:00  Spring        0  ...       100   27.9993             11\n",
              "3     10/13/2011 11:00  Winter        0  ...        83    0.0000             84\n",
              "4       6/2/2012 12:00  Summer        0  ...        43   23.9994            668\n",
              "...                ...     ...      ...  ...       ...       ...            ...\n",
              "2173     3/8/2012 3:00  Spring        0  ...        63   26.0027              3\n",
              "2174   1/12/2012 12:00  Spring        0  ...        81    7.0015            144\n",
              "2175    3/7/2012 22:00  Spring        0  ...        59   19.9995            159\n",
              "2176    5/12/2011 5:00  Summer        0  ...        94    8.9981             29\n",
              "2177   7/18/2012 16:00    Fall        0  ...        66   16.9979            224\n",
              "\n",
              "[2178 rows x 10 columns]"
            ]
          },
          "metadata": {},
          "execution_count": 170
        }
      ]
    },
    {
      "cell_type": "markdown",
      "source": [
        "### **Analyzing the datasets.** \n",
        "\n",
        "---\n",
        "\n",
        "\n",
        "*   Shape of datasets\n",
        "*   Data types\n",
        "*   Null values\n",
        "\n",
        "\n",
        "\n",
        "\n",
        "\n",
        "\n"
      ],
      "metadata": {
        "id": "sFQxRc0Kr93P"
      }
    },
    {
      "cell_type": "code",
      "source": [
        "train.shape"
      ],
      "metadata": {
        "colab": {
          "base_uri": "https://localhost:8080/"
        },
        "id": "w3vVmFqbr9Xr",
        "outputId": "cf744871-49ef-43e3-8d77-8bc1337684a3"
      },
      "execution_count": null,
      "outputs": [
        {
          "output_type": "execute_result",
          "data": {
            "text/plain": [
              "(8708, 10)"
            ]
          },
          "metadata": {},
          "execution_count": 105
        }
      ]
    },
    {
      "cell_type": "code",
      "source": [
        "test.shape"
      ],
      "metadata": {
        "colab": {
          "base_uri": "https://localhost:8080/"
        },
        "id": "GQNmByqPqOED",
        "outputId": "31c64980-620d-4f3d-cab9-96570c612213"
      },
      "execution_count": null,
      "outputs": [
        {
          "output_type": "execute_result",
          "data": {
            "text/plain": [
              "(2178, 10)"
            ]
          },
          "metadata": {},
          "execution_count": 106
        }
      ]
    },
    {
      "cell_type": "code",
      "source": [
        "train.isnull().sum()"
      ],
      "metadata": {
        "colab": {
          "base_uri": "https://localhost:8080/"
        },
        "id": "jRfqfjQUsanE",
        "outputId": "55cfe684-3707-4263-8086-562c7db2db7e"
      },
      "execution_count": null,
      "outputs": [
        {
          "output_type": "execute_result",
          "data": {
            "text/plain": [
              "datetime         0\n",
              "season           0\n",
              "holiday          0\n",
              "workingday       0\n",
              "weather          0\n",
              "temp             0\n",
              "atemp            0\n",
              "humidity         0\n",
              "windspeed        0\n",
              "Total_booking    0\n",
              "dtype: int64"
            ]
          },
          "metadata": {},
          "execution_count": 107
        }
      ]
    },
    {
      "cell_type": "code",
      "source": [
        "train.dtypes"
      ],
      "metadata": {
        "colab": {
          "base_uri": "https://localhost:8080/"
        },
        "id": "bRqs6_GBsajf",
        "outputId": "e5e3b031-cf11-4a65-f3fb-d206deea24ea"
      },
      "execution_count": null,
      "outputs": [
        {
          "output_type": "execute_result",
          "data": {
            "text/plain": [
              "datetime          object\n",
              "season            object\n",
              "holiday            int64\n",
              "workingday         int64\n",
              "weather           object\n",
              "temp             float64\n",
              "atemp            float64\n",
              "humidity           int64\n",
              "windspeed        float64\n",
              "Total_booking      int64\n",
              "dtype: object"
            ]
          },
          "metadata": {},
          "execution_count": 108
        }
      ]
    },
    {
      "cell_type": "code",
      "source": [
        "train.info()"
      ],
      "metadata": {
        "colab": {
          "base_uri": "https://localhost:8080/"
        },
        "id": "50ZiuLBhsah5",
        "outputId": "a29237f5-818d-4af9-88e7-d0182452eb1a"
      },
      "execution_count": null,
      "outputs": [
        {
          "output_type": "stream",
          "name": "stdout",
          "text": [
            "<class 'pandas.core.frame.DataFrame'>\n",
            "RangeIndex: 8708 entries, 0 to 8707\n",
            "Data columns (total 10 columns):\n",
            " #   Column         Non-Null Count  Dtype  \n",
            "---  ------         --------------  -----  \n",
            " 0   datetime       8708 non-null   object \n",
            " 1   season         8708 non-null   object \n",
            " 2   holiday        8708 non-null   int64  \n",
            " 3   workingday     8708 non-null   int64  \n",
            " 4   weather        8708 non-null   object \n",
            " 5   temp           8708 non-null   float64\n",
            " 6   atemp          8708 non-null   float64\n",
            " 7   humidity       8708 non-null   int64  \n",
            " 8   windspeed      8708 non-null   float64\n",
            " 9   Total_booking  8708 non-null   int64  \n",
            "dtypes: float64(3), int64(4), object(3)\n",
            "memory usage: 680.4+ KB\n"
          ]
        }
      ]
    },
    {
      "cell_type": "code",
      "source": [
        "train.describe()"
      ],
      "metadata": {
        "colab": {
          "base_uri": "https://localhost:8080/"
        },
        "id": "ufSo_ZXXsmuQ",
        "outputId": "9e64ba0e-0b5e-4822-c49a-4425922c53ff"
      },
      "execution_count": null,
      "outputs": [
        {
          "output_type": "execute_result",
          "data": {
            "text/html": [
              "\n",
              "  <div id=\"df-43344200-4f34-4596-ad2f-90f8ad640644\">\n",
              "    <div class=\"colab-df-container\">\n",
              "      <div>\n",
              "<style scoped>\n",
              "    .dataframe tbody tr th:only-of-type {\n",
              "        vertical-align: middle;\n",
              "    }\n",
              "\n",
              "    .dataframe tbody tr th {\n",
              "        vertical-align: top;\n",
              "    }\n",
              "\n",
              "    .dataframe thead th {\n",
              "        text-align: right;\n",
              "    }\n",
              "</style>\n",
              "<table border=\"1\" class=\"dataframe\">\n",
              "  <thead>\n",
              "    <tr style=\"text-align: right;\">\n",
              "      <th></th>\n",
              "      <th>holiday</th>\n",
              "      <th>workingday</th>\n",
              "      <th>temp</th>\n",
              "      <th>atemp</th>\n",
              "      <th>humidity</th>\n",
              "      <th>windspeed</th>\n",
              "      <th>Total_booking</th>\n",
              "    </tr>\n",
              "  </thead>\n",
              "  <tbody>\n",
              "    <tr>\n",
              "      <th>count</th>\n",
              "      <td>8708.000000</td>\n",
              "      <td>8708.000000</td>\n",
              "      <td>8708.000000</td>\n",
              "      <td>8708.000000</td>\n",
              "      <td>8708.000000</td>\n",
              "      <td>8708.000000</td>\n",
              "      <td>8708.000000</td>\n",
              "    </tr>\n",
              "    <tr>\n",
              "      <th>mean</th>\n",
              "      <td>0.028480</td>\n",
              "      <td>0.680294</td>\n",
              "      <td>20.243020</td>\n",
              "      <td>23.655552</td>\n",
              "      <td>61.649173</td>\n",
              "      <td>12.843891</td>\n",
              "      <td>193.007005</td>\n",
              "    </tr>\n",
              "    <tr>\n",
              "      <th>std</th>\n",
              "      <td>0.166348</td>\n",
              "      <td>0.466389</td>\n",
              "      <td>7.813494</td>\n",
              "      <td>8.501107</td>\n",
              "      <td>19.199578</td>\n",
              "      <td>8.190314</td>\n",
              "      <td>181.552211</td>\n",
              "    </tr>\n",
              "    <tr>\n",
              "      <th>min</th>\n",
              "      <td>0.000000</td>\n",
              "      <td>0.000000</td>\n",
              "      <td>0.820000</td>\n",
              "      <td>0.760000</td>\n",
              "      <td>0.000000</td>\n",
              "      <td>0.000000</td>\n",
              "      <td>1.000000</td>\n",
              "    </tr>\n",
              "    <tr>\n",
              "      <th>25%</th>\n",
              "      <td>0.000000</td>\n",
              "      <td>0.000000</td>\n",
              "      <td>13.940000</td>\n",
              "      <td>16.665000</td>\n",
              "      <td>46.000000</td>\n",
              "      <td>7.001500</td>\n",
              "      <td>43.000000</td>\n",
              "    </tr>\n",
              "    <tr>\n",
              "      <th>50%</th>\n",
              "      <td>0.000000</td>\n",
              "      <td>1.000000</td>\n",
              "      <td>20.500000</td>\n",
              "      <td>24.240000</td>\n",
              "      <td>61.000000</td>\n",
              "      <td>12.998000</td>\n",
              "      <td>148.000000</td>\n",
              "    </tr>\n",
              "    <tr>\n",
              "      <th>75%</th>\n",
              "      <td>0.000000</td>\n",
              "      <td>1.000000</td>\n",
              "      <td>26.240000</td>\n",
              "      <td>31.060000</td>\n",
              "      <td>77.000000</td>\n",
              "      <td>16.997900</td>\n",
              "      <td>286.000000</td>\n",
              "    </tr>\n",
              "    <tr>\n",
              "      <th>max</th>\n",
              "      <td>1.000000</td>\n",
              "      <td>1.000000</td>\n",
              "      <td>41.000000</td>\n",
              "      <td>45.455000</td>\n",
              "      <td>100.000000</td>\n",
              "      <td>56.996900</td>\n",
              "      <td>977.000000</td>\n",
              "    </tr>\n",
              "  </tbody>\n",
              "</table>\n",
              "</div>\n",
              "      <button class=\"colab-df-convert\" onclick=\"convertToInteractive('df-43344200-4f34-4596-ad2f-90f8ad640644')\"\n",
              "              title=\"Convert this dataframe to an interactive table.\"\n",
              "              style=\"display:none;\">\n",
              "        \n",
              "  <svg xmlns=\"http://www.w3.org/2000/svg\" height=\"24px\"viewBox=\"0 0 24 24\"\n",
              "       width=\"24px\">\n",
              "    <path d=\"M0 0h24v24H0V0z\" fill=\"none\"/>\n",
              "    <path d=\"M18.56 5.44l.94 2.06.94-2.06 2.06-.94-2.06-.94-.94-2.06-.94 2.06-2.06.94zm-11 1L8.5 8.5l.94-2.06 2.06-.94-2.06-.94L8.5 2.5l-.94 2.06-2.06.94zm10 10l.94 2.06.94-2.06 2.06-.94-2.06-.94-.94-2.06-.94 2.06-2.06.94z\"/><path d=\"M17.41 7.96l-1.37-1.37c-.4-.4-.92-.59-1.43-.59-.52 0-1.04.2-1.43.59L10.3 9.45l-7.72 7.72c-.78.78-.78 2.05 0 2.83L4 21.41c.39.39.9.59 1.41.59.51 0 1.02-.2 1.41-.59l7.78-7.78 2.81-2.81c.8-.78.8-2.07 0-2.86zM5.41 20L4 18.59l7.72-7.72 1.47 1.35L5.41 20z\"/>\n",
              "  </svg>\n",
              "      </button>\n",
              "      \n",
              "  <style>\n",
              "    .colab-df-container {\n",
              "      display:flex;\n",
              "      flex-wrap:wrap;\n",
              "      gap: 12px;\n",
              "    }\n",
              "\n",
              "    .colab-df-convert {\n",
              "      background-color: #E8F0FE;\n",
              "      border: none;\n",
              "      border-radius: 50%;\n",
              "      cursor: pointer;\n",
              "      display: none;\n",
              "      fill: #1967D2;\n",
              "      height: 32px;\n",
              "      padding: 0 0 0 0;\n",
              "      width: 32px;\n",
              "    }\n",
              "\n",
              "    .colab-df-convert:hover {\n",
              "      background-color: #E2EBFA;\n",
              "      box-shadow: 0px 1px 2px rgba(60, 64, 67, 0.3), 0px 1px 3px 1px rgba(60, 64, 67, 0.15);\n",
              "      fill: #174EA6;\n",
              "    }\n",
              "\n",
              "    [theme=dark] .colab-df-convert {\n",
              "      background-color: #3B4455;\n",
              "      fill: #D2E3FC;\n",
              "    }\n",
              "\n",
              "    [theme=dark] .colab-df-convert:hover {\n",
              "      background-color: #434B5C;\n",
              "      box-shadow: 0px 1px 3px 1px rgba(0, 0, 0, 0.15);\n",
              "      filter: drop-shadow(0px 1px 2px rgba(0, 0, 0, 0.3));\n",
              "      fill: #FFFFFF;\n",
              "    }\n",
              "  </style>\n",
              "\n",
              "      <script>\n",
              "        const buttonEl =\n",
              "          document.querySelector('#df-43344200-4f34-4596-ad2f-90f8ad640644 button.colab-df-convert');\n",
              "        buttonEl.style.display =\n",
              "          google.colab.kernel.accessAllowed ? 'block' : 'none';\n",
              "\n",
              "        async function convertToInteractive(key) {\n",
              "          const element = document.querySelector('#df-43344200-4f34-4596-ad2f-90f8ad640644');\n",
              "          const dataTable =\n",
              "            await google.colab.kernel.invokeFunction('convertToInteractive',\n",
              "                                                     [key], {});\n",
              "          if (!dataTable) return;\n",
              "\n",
              "          const docLinkHtml = 'Like what you see? Visit the ' +\n",
              "            '<a target=\"_blank\" href=https://colab.research.google.com/notebooks/data_table.ipynb>data table notebook</a>'\n",
              "            + ' to learn more about interactive tables.';\n",
              "          element.innerHTML = '';\n",
              "          dataTable['output_type'] = 'display_data';\n",
              "          await google.colab.output.renderOutput(dataTable, element);\n",
              "          const docLink = document.createElement('div');\n",
              "          docLink.innerHTML = docLinkHtml;\n",
              "          element.appendChild(docLink);\n",
              "        }\n",
              "      </script>\n",
              "    </div>\n",
              "  </div>\n",
              "  "
            ],
            "text/plain": [
              "           holiday   workingday  ...    windspeed  Total_booking\n",
              "count  8708.000000  8708.000000  ...  8708.000000    8708.000000\n",
              "mean      0.028480     0.680294  ...    12.843891     193.007005\n",
              "std       0.166348     0.466389  ...     8.190314     181.552211\n",
              "min       0.000000     0.000000  ...     0.000000       1.000000\n",
              "25%       0.000000     0.000000  ...     7.001500      43.000000\n",
              "50%       0.000000     1.000000  ...    12.998000     148.000000\n",
              "75%       0.000000     1.000000  ...    16.997900     286.000000\n",
              "max       1.000000     1.000000  ...    56.996900     977.000000\n",
              "\n",
              "[8 rows x 7 columns]"
            ]
          },
          "metadata": {},
          "execution_count": 110
        }
      ]
    },
    {
      "cell_type": "markdown",
      "source": [
        "### **Feature Engineering**\n",
        "\n",
        "---\n",
        "\n"
      ],
      "metadata": {
        "id": "J4cWr_WptI6l"
      }
    },
    {
      "cell_type": "code",
      "source": [
        "from datetime import datetime\n",
        "import calendar"
      ],
      "metadata": {
        "id": "EyWb3Wn6tTSg"
      },
      "execution_count": null,
      "outputs": []
    },
    {
      "cell_type": "code",
      "source": [
        "##creating new columns\n",
        "\n",
        "train['date']= train.datetime.apply(lambda x : x.split()[0])\n",
        "train['hour']= train.datetime.apply(lambda x : x.split()[1].split(\":\")[0])\n",
        "train[\"weekday\"]= train.date.apply(lambda dateString : calendar.day_name[datetime.strptime(dateString,\"%m/%d/%Y\").weekday()])\n",
        "train[\"month\"]= train.date.apply(lambda dateString : calendar.month_name[datetime.strptime(dateString,\"%m/%d/%Y\").month])"
      ],
      "metadata": {
        "id": "mgFx4uyWtTbA"
      },
      "execution_count": null,
      "outputs": []
    },
    {
      "cell_type": "code",
      "source": [
        "train"
      ],
      "metadata": {
        "colab": {
          "base_uri": "https://localhost:8080/"
        },
        "id": "bFWtG3fWtTUu",
        "outputId": "ad04e057-aaba-4b39-c751-c4d2ed4bd84d"
      },
      "execution_count": null,
      "outputs": [
        {
          "output_type": "execute_result",
          "data": {
            "text/html": [
              "\n",
              "  <div id=\"df-bfd03c6c-3eb9-4991-9e06-260d15b182b4\">\n",
              "    <div class=\"colab-df-container\">\n",
              "      <div>\n",
              "<style scoped>\n",
              "    .dataframe tbody tr th:only-of-type {\n",
              "        vertical-align: middle;\n",
              "    }\n",
              "\n",
              "    .dataframe tbody tr th {\n",
              "        vertical-align: top;\n",
              "    }\n",
              "\n",
              "    .dataframe thead th {\n",
              "        text-align: right;\n",
              "    }\n",
              "</style>\n",
              "<table border=\"1\" class=\"dataframe\">\n",
              "  <thead>\n",
              "    <tr style=\"text-align: right;\">\n",
              "      <th></th>\n",
              "      <th>datetime</th>\n",
              "      <th>season</th>\n",
              "      <th>holiday</th>\n",
              "      <th>workingday</th>\n",
              "      <th>weather</th>\n",
              "      <th>temp</th>\n",
              "      <th>atemp</th>\n",
              "      <th>humidity</th>\n",
              "      <th>windspeed</th>\n",
              "      <th>Total_booking</th>\n",
              "      <th>date</th>\n",
              "      <th>hour</th>\n",
              "      <th>weekday</th>\n",
              "      <th>month</th>\n",
              "    </tr>\n",
              "  </thead>\n",
              "  <tbody>\n",
              "    <tr>\n",
              "      <th>0</th>\n",
              "      <td>5/2/2012 19:00</td>\n",
              "      <td>Summer</td>\n",
              "      <td>0</td>\n",
              "      <td>1</td>\n",
              "      <td>Clear + Few clouds</td>\n",
              "      <td>22.14</td>\n",
              "      <td>25.760</td>\n",
              "      <td>77</td>\n",
              "      <td>16.9979</td>\n",
              "      <td>504</td>\n",
              "      <td>5/2/2012</td>\n",
              "      <td>19</td>\n",
              "      <td>Wednesday</td>\n",
              "      <td>May</td>\n",
              "    </tr>\n",
              "    <tr>\n",
              "      <th>1</th>\n",
              "      <td>9/5/2012 4:00</td>\n",
              "      <td>Fall</td>\n",
              "      <td>0</td>\n",
              "      <td>1</td>\n",
              "      <td>Clear + Few clouds</td>\n",
              "      <td>28.70</td>\n",
              "      <td>33.335</td>\n",
              "      <td>79</td>\n",
              "      <td>19.0012</td>\n",
              "      <td>5</td>\n",
              "      <td>9/5/2012</td>\n",
              "      <td>4</td>\n",
              "      <td>Wednesday</td>\n",
              "      <td>September</td>\n",
              "    </tr>\n",
              "    <tr>\n",
              "      <th>2</th>\n",
              "      <td>1/13/2011 9:00</td>\n",
              "      <td>Spring</td>\n",
              "      <td>0</td>\n",
              "      <td>1</td>\n",
              "      <td>Clear + Few clouds</td>\n",
              "      <td>5.74</td>\n",
              "      <td>6.060</td>\n",
              "      <td>50</td>\n",
              "      <td>22.0028</td>\n",
              "      <td>139</td>\n",
              "      <td>1/13/2011</td>\n",
              "      <td>9</td>\n",
              "      <td>Thursday</td>\n",
              "      <td>January</td>\n",
              "    </tr>\n",
              "    <tr>\n",
              "      <th>3</th>\n",
              "      <td>11/18/2011 16:00</td>\n",
              "      <td>Winter</td>\n",
              "      <td>0</td>\n",
              "      <td>1</td>\n",
              "      <td>Clear + Few clouds</td>\n",
              "      <td>13.94</td>\n",
              "      <td>16.665</td>\n",
              "      <td>29</td>\n",
              "      <td>8.9981</td>\n",
              "      <td>209</td>\n",
              "      <td>11/18/2011</td>\n",
              "      <td>16</td>\n",
              "      <td>Friday</td>\n",
              "      <td>November</td>\n",
              "    </tr>\n",
              "    <tr>\n",
              "      <th>4</th>\n",
              "      <td>9/13/2011 13:00</td>\n",
              "      <td>Fall</td>\n",
              "      <td>0</td>\n",
              "      <td>1</td>\n",
              "      <td>Clear + Few clouds</td>\n",
              "      <td>30.34</td>\n",
              "      <td>33.335</td>\n",
              "      <td>51</td>\n",
              "      <td>19.0012</td>\n",
              "      <td>184</td>\n",
              "      <td>9/13/2011</td>\n",
              "      <td>13</td>\n",
              "      <td>Tuesday</td>\n",
              "      <td>September</td>\n",
              "    </tr>\n",
              "    <tr>\n",
              "      <th>...</th>\n",
              "      <td>...</td>\n",
              "      <td>...</td>\n",
              "      <td>...</td>\n",
              "      <td>...</td>\n",
              "      <td>...</td>\n",
              "      <td>...</td>\n",
              "      <td>...</td>\n",
              "      <td>...</td>\n",
              "      <td>...</td>\n",
              "      <td>...</td>\n",
              "      <td>...</td>\n",
              "      <td>...</td>\n",
              "      <td>...</td>\n",
              "      <td>...</td>\n",
              "    </tr>\n",
              "    <tr>\n",
              "      <th>8703</th>\n",
              "      <td>1/16/2012 6:00</td>\n",
              "      <td>Spring</td>\n",
              "      <td>1</td>\n",
              "      <td>0</td>\n",
              "      <td>Clear + Few clouds</td>\n",
              "      <td>4.10</td>\n",
              "      <td>6.820</td>\n",
              "      <td>54</td>\n",
              "      <td>6.0032</td>\n",
              "      <td>13</td>\n",
              "      <td>1/16/2012</td>\n",
              "      <td>6</td>\n",
              "      <td>Monday</td>\n",
              "      <td>January</td>\n",
              "    </tr>\n",
              "    <tr>\n",
              "      <th>8704</th>\n",
              "      <td>11/10/2011 1:00</td>\n",
              "      <td>Winter</td>\n",
              "      <td>0</td>\n",
              "      <td>1</td>\n",
              "      <td>Mist + Cloudy</td>\n",
              "      <td>16.40</td>\n",
              "      <td>20.455</td>\n",
              "      <td>87</td>\n",
              "      <td>0.0000</td>\n",
              "      <td>11</td>\n",
              "      <td>11/10/2011</td>\n",
              "      <td>1</td>\n",
              "      <td>Thursday</td>\n",
              "      <td>November</td>\n",
              "    </tr>\n",
              "    <tr>\n",
              "      <th>8705</th>\n",
              "      <td>4/12/2011 3:00</td>\n",
              "      <td>Summer</td>\n",
              "      <td>0</td>\n",
              "      <td>1</td>\n",
              "      <td>Mist + Cloudy</td>\n",
              "      <td>23.78</td>\n",
              "      <td>27.275</td>\n",
              "      <td>56</td>\n",
              "      <td>8.9981</td>\n",
              "      <td>1</td>\n",
              "      <td>4/12/2011</td>\n",
              "      <td>3</td>\n",
              "      <td>Tuesday</td>\n",
              "      <td>April</td>\n",
              "    </tr>\n",
              "    <tr>\n",
              "      <th>8706</th>\n",
              "      <td>11/7/2012 1:00</td>\n",
              "      <td>Winter</td>\n",
              "      <td>0</td>\n",
              "      <td>1</td>\n",
              "      <td>Mist + Cloudy</td>\n",
              "      <td>11.48</td>\n",
              "      <td>13.635</td>\n",
              "      <td>61</td>\n",
              "      <td>16.9979</td>\n",
              "      <td>92</td>\n",
              "      <td>11/7/2012</td>\n",
              "      <td>1</td>\n",
              "      <td>Wednesday</td>\n",
              "      <td>November</td>\n",
              "    </tr>\n",
              "    <tr>\n",
              "      <th>8707</th>\n",
              "      <td>1/10/2011 10:00</td>\n",
              "      <td>Spring</td>\n",
              "      <td>0</td>\n",
              "      <td>1</td>\n",
              "      <td>Mist + Cloudy</td>\n",
              "      <td>5.74</td>\n",
              "      <td>6.060</td>\n",
              "      <td>50</td>\n",
              "      <td>19.9995</td>\n",
              "      <td>31</td>\n",
              "      <td>1/10/2011</td>\n",
              "      <td>10</td>\n",
              "      <td>Monday</td>\n",
              "      <td>January</td>\n",
              "    </tr>\n",
              "  </tbody>\n",
              "</table>\n",
              "<p>8708 rows × 14 columns</p>\n",
              "</div>\n",
              "      <button class=\"colab-df-convert\" onclick=\"convertToInteractive('df-bfd03c6c-3eb9-4991-9e06-260d15b182b4')\"\n",
              "              title=\"Convert this dataframe to an interactive table.\"\n",
              "              style=\"display:none;\">\n",
              "        \n",
              "  <svg xmlns=\"http://www.w3.org/2000/svg\" height=\"24px\"viewBox=\"0 0 24 24\"\n",
              "       width=\"24px\">\n",
              "    <path d=\"M0 0h24v24H0V0z\" fill=\"none\"/>\n",
              "    <path d=\"M18.56 5.44l.94 2.06.94-2.06 2.06-.94-2.06-.94-.94-2.06-.94 2.06-2.06.94zm-11 1L8.5 8.5l.94-2.06 2.06-.94-2.06-.94L8.5 2.5l-.94 2.06-2.06.94zm10 10l.94 2.06.94-2.06 2.06-.94-2.06-.94-.94-2.06-.94 2.06-2.06.94z\"/><path d=\"M17.41 7.96l-1.37-1.37c-.4-.4-.92-.59-1.43-.59-.52 0-1.04.2-1.43.59L10.3 9.45l-7.72 7.72c-.78.78-.78 2.05 0 2.83L4 21.41c.39.39.9.59 1.41.59.51 0 1.02-.2 1.41-.59l7.78-7.78 2.81-2.81c.8-.78.8-2.07 0-2.86zM5.41 20L4 18.59l7.72-7.72 1.47 1.35L5.41 20z\"/>\n",
              "  </svg>\n",
              "      </button>\n",
              "      \n",
              "  <style>\n",
              "    .colab-df-container {\n",
              "      display:flex;\n",
              "      flex-wrap:wrap;\n",
              "      gap: 12px;\n",
              "    }\n",
              "\n",
              "    .colab-df-convert {\n",
              "      background-color: #E8F0FE;\n",
              "      border: none;\n",
              "      border-radius: 50%;\n",
              "      cursor: pointer;\n",
              "      display: none;\n",
              "      fill: #1967D2;\n",
              "      height: 32px;\n",
              "      padding: 0 0 0 0;\n",
              "      width: 32px;\n",
              "    }\n",
              "\n",
              "    .colab-df-convert:hover {\n",
              "      background-color: #E2EBFA;\n",
              "      box-shadow: 0px 1px 2px rgba(60, 64, 67, 0.3), 0px 1px 3px 1px rgba(60, 64, 67, 0.15);\n",
              "      fill: #174EA6;\n",
              "    }\n",
              "\n",
              "    [theme=dark] .colab-df-convert {\n",
              "      background-color: #3B4455;\n",
              "      fill: #D2E3FC;\n",
              "    }\n",
              "\n",
              "    [theme=dark] .colab-df-convert:hover {\n",
              "      background-color: #434B5C;\n",
              "      box-shadow: 0px 1px 3px 1px rgba(0, 0, 0, 0.15);\n",
              "      filter: drop-shadow(0px 1px 2px rgba(0, 0, 0, 0.3));\n",
              "      fill: #FFFFFF;\n",
              "    }\n",
              "  </style>\n",
              "\n",
              "      <script>\n",
              "        const buttonEl =\n",
              "          document.querySelector('#df-bfd03c6c-3eb9-4991-9e06-260d15b182b4 button.colab-df-convert');\n",
              "        buttonEl.style.display =\n",
              "          google.colab.kernel.accessAllowed ? 'block' : 'none';\n",
              "\n",
              "        async function convertToInteractive(key) {\n",
              "          const element = document.querySelector('#df-bfd03c6c-3eb9-4991-9e06-260d15b182b4');\n",
              "          const dataTable =\n",
              "            await google.colab.kernel.invokeFunction('convertToInteractive',\n",
              "                                                     [key], {});\n",
              "          if (!dataTable) return;\n",
              "\n",
              "          const docLinkHtml = 'Like what you see? Visit the ' +\n",
              "            '<a target=\"_blank\" href=https://colab.research.google.com/notebooks/data_table.ipynb>data table notebook</a>'\n",
              "            + ' to learn more about interactive tables.';\n",
              "          element.innerHTML = '';\n",
              "          dataTable['output_type'] = 'display_data';\n",
              "          await google.colab.output.renderOutput(dataTable, element);\n",
              "          const docLink = document.createElement('div');\n",
              "          docLink.innerHTML = docLinkHtml;\n",
              "          element.appendChild(docLink);\n",
              "        }\n",
              "      </script>\n",
              "    </div>\n",
              "  </div>\n",
              "  "
            ],
            "text/plain": [
              "              datetime  season  holiday  ...  hour    weekday      month\n",
              "0       5/2/2012 19:00  Summer        0  ...    19  Wednesday        May\n",
              "1        9/5/2012 4:00    Fall        0  ...     4  Wednesday  September\n",
              "2       1/13/2011 9:00  Spring        0  ...     9   Thursday    January\n",
              "3     11/18/2011 16:00  Winter        0  ...    16     Friday   November\n",
              "4      9/13/2011 13:00    Fall        0  ...    13    Tuesday  September\n",
              "...                ...     ...      ...  ...   ...        ...        ...\n",
              "8703    1/16/2012 6:00  Spring        1  ...     6     Monday    January\n",
              "8704   11/10/2011 1:00  Winter        0  ...     1   Thursday   November\n",
              "8705    4/12/2011 3:00  Summer        0  ...     3    Tuesday      April\n",
              "8706    11/7/2012 1:00  Winter        0  ...     1  Wednesday   November\n",
              "8707   1/10/2011 10:00  Spring        0  ...    10     Monday    January\n",
              "\n",
              "[8708 rows x 14 columns]"
            ]
          },
          "metadata": {},
          "execution_count": 173
        }
      ]
    },
    {
      "cell_type": "code",
      "source": [
        "train.drop('datetime', axis=1, inplace=True)"
      ],
      "metadata": {
        "id": "SOSgqB8u2OUa"
      },
      "execution_count": null,
      "outputs": []
    },
    {
      "cell_type": "code",
      "source": [
        "test['date']= test.datetime.apply(lambda x : x.split()[0])\n",
        "test['hour']= test.datetime.apply(lambda x : x.split()[1].split(\":\")[0])\n",
        "test[\"weekday\"]= test.date.apply(lambda dateString : calendar.day_name[datetime.strptime(dateString,\"%m/%d/%Y\").weekday()])\n",
        "test[\"month\"]= test.date.apply(lambda dateString : calendar.month_name[datetime.strptime(dateString,\"%m/%d/%Y\").month])\n"
      ],
      "metadata": {
        "id": "X8qtXqZxuL7T"
      },
      "execution_count": null,
      "outputs": []
    },
    {
      "cell_type": "code",
      "source": [
        "test"
      ],
      "metadata": {
        "colab": {
          "base_uri": "https://localhost:8080/"
        },
        "id": "5wVDXDP0uL26",
        "outputId": "cbfdafd9-ebe0-4fbd-f2bb-3fd051727137"
      },
      "execution_count": null,
      "outputs": [
        {
          "output_type": "execute_result",
          "data": {
            "text/html": [
              "\n",
              "  <div id=\"df-dccf5249-ce61-42d6-b6aa-49271a93ee5d\">\n",
              "    <div class=\"colab-df-container\">\n",
              "      <div>\n",
              "<style scoped>\n",
              "    .dataframe tbody tr th:only-of-type {\n",
              "        vertical-align: middle;\n",
              "    }\n",
              "\n",
              "    .dataframe tbody tr th {\n",
              "        vertical-align: top;\n",
              "    }\n",
              "\n",
              "    .dataframe thead th {\n",
              "        text-align: right;\n",
              "    }\n",
              "</style>\n",
              "<table border=\"1\" class=\"dataframe\">\n",
              "  <thead>\n",
              "    <tr style=\"text-align: right;\">\n",
              "      <th></th>\n",
              "      <th>datetime</th>\n",
              "      <th>season</th>\n",
              "      <th>holiday</th>\n",
              "      <th>workingday</th>\n",
              "      <th>weather</th>\n",
              "      <th>temp</th>\n",
              "      <th>atemp</th>\n",
              "      <th>humidity</th>\n",
              "      <th>windspeed</th>\n",
              "      <th>Total_booking</th>\n",
              "      <th>date</th>\n",
              "      <th>hour</th>\n",
              "      <th>weekday</th>\n",
              "      <th>month</th>\n",
              "    </tr>\n",
              "  </thead>\n",
              "  <tbody>\n",
              "    <tr>\n",
              "      <th>0</th>\n",
              "      <td>5/10/2012 11:00</td>\n",
              "      <td>Summer</td>\n",
              "      <td>0</td>\n",
              "      <td>1</td>\n",
              "      <td>Clear + Few clouds</td>\n",
              "      <td>21.32</td>\n",
              "      <td>25.000</td>\n",
              "      <td>48</td>\n",
              "      <td>35.0008</td>\n",
              "      <td>256</td>\n",
              "      <td>5/10/2012</td>\n",
              "      <td>11</td>\n",
              "      <td>Thursday</td>\n",
              "      <td>May</td>\n",
              "    </tr>\n",
              "    <tr>\n",
              "      <th>1</th>\n",
              "      <td>6/9/2012 7:00</td>\n",
              "      <td>Summer</td>\n",
              "      <td>0</td>\n",
              "      <td>0</td>\n",
              "      <td>Clear + Few clouds</td>\n",
              "      <td>23.78</td>\n",
              "      <td>27.275</td>\n",
              "      <td>64</td>\n",
              "      <td>7.0015</td>\n",
              "      <td>87</td>\n",
              "      <td>6/9/2012</td>\n",
              "      <td>7</td>\n",
              "      <td>Saturday</td>\n",
              "      <td>June</td>\n",
              "    </tr>\n",
              "    <tr>\n",
              "      <th>2</th>\n",
              "      <td>3/6/2011 20:00</td>\n",
              "      <td>Spring</td>\n",
              "      <td>0</td>\n",
              "      <td>0</td>\n",
              "      <td>Light Snow, Light Rain</td>\n",
              "      <td>11.48</td>\n",
              "      <td>12.120</td>\n",
              "      <td>100</td>\n",
              "      <td>27.9993</td>\n",
              "      <td>11</td>\n",
              "      <td>3/6/2011</td>\n",
              "      <td>20</td>\n",
              "      <td>Sunday</td>\n",
              "      <td>March</td>\n",
              "    </tr>\n",
              "    <tr>\n",
              "      <th>3</th>\n",
              "      <td>10/13/2011 11:00</td>\n",
              "      <td>Winter</td>\n",
              "      <td>0</td>\n",
              "      <td>1</td>\n",
              "      <td>Mist + Cloudy</td>\n",
              "      <td>25.42</td>\n",
              "      <td>28.790</td>\n",
              "      <td>83</td>\n",
              "      <td>0.0000</td>\n",
              "      <td>84</td>\n",
              "      <td>10/13/2011</td>\n",
              "      <td>11</td>\n",
              "      <td>Thursday</td>\n",
              "      <td>October</td>\n",
              "    </tr>\n",
              "    <tr>\n",
              "      <th>4</th>\n",
              "      <td>6/2/2012 12:00</td>\n",
              "      <td>Summer</td>\n",
              "      <td>0</td>\n",
              "      <td>0</td>\n",
              "      <td>Clear + Few clouds</td>\n",
              "      <td>25.42</td>\n",
              "      <td>31.060</td>\n",
              "      <td>43</td>\n",
              "      <td>23.9994</td>\n",
              "      <td>668</td>\n",
              "      <td>6/2/2012</td>\n",
              "      <td>12</td>\n",
              "      <td>Saturday</td>\n",
              "      <td>June</td>\n",
              "    </tr>\n",
              "    <tr>\n",
              "      <th>...</th>\n",
              "      <td>...</td>\n",
              "      <td>...</td>\n",
              "      <td>...</td>\n",
              "      <td>...</td>\n",
              "      <td>...</td>\n",
              "      <td>...</td>\n",
              "      <td>...</td>\n",
              "      <td>...</td>\n",
              "      <td>...</td>\n",
              "      <td>...</td>\n",
              "      <td>...</td>\n",
              "      <td>...</td>\n",
              "      <td>...</td>\n",
              "      <td>...</td>\n",
              "    </tr>\n",
              "    <tr>\n",
              "      <th>2173</th>\n",
              "      <td>3/8/2012 3:00</td>\n",
              "      <td>Spring</td>\n",
              "      <td>0</td>\n",
              "      <td>1</td>\n",
              "      <td>Clear + Few clouds</td>\n",
              "      <td>18.86</td>\n",
              "      <td>22.725</td>\n",
              "      <td>63</td>\n",
              "      <td>26.0027</td>\n",
              "      <td>3</td>\n",
              "      <td>3/8/2012</td>\n",
              "      <td>3</td>\n",
              "      <td>Thursday</td>\n",
              "      <td>March</td>\n",
              "    </tr>\n",
              "    <tr>\n",
              "      <th>2174</th>\n",
              "      <td>1/12/2012 12:00</td>\n",
              "      <td>Spring</td>\n",
              "      <td>0</td>\n",
              "      <td>1</td>\n",
              "      <td>Mist + Cloudy</td>\n",
              "      <td>13.94</td>\n",
              "      <td>17.425</td>\n",
              "      <td>81</td>\n",
              "      <td>7.0015</td>\n",
              "      <td>144</td>\n",
              "      <td>1/12/2012</td>\n",
              "      <td>12</td>\n",
              "      <td>Thursday</td>\n",
              "      <td>January</td>\n",
              "    </tr>\n",
              "    <tr>\n",
              "      <th>2175</th>\n",
              "      <td>3/7/2012 22:00</td>\n",
              "      <td>Spring</td>\n",
              "      <td>0</td>\n",
              "      <td>1</td>\n",
              "      <td>Clear + Few clouds</td>\n",
              "      <td>18.86</td>\n",
              "      <td>22.725</td>\n",
              "      <td>59</td>\n",
              "      <td>19.9995</td>\n",
              "      <td>159</td>\n",
              "      <td>3/7/2012</td>\n",
              "      <td>22</td>\n",
              "      <td>Wednesday</td>\n",
              "      <td>March</td>\n",
              "    </tr>\n",
              "    <tr>\n",
              "      <th>2176</th>\n",
              "      <td>5/12/2011 5:00</td>\n",
              "      <td>Summer</td>\n",
              "      <td>0</td>\n",
              "      <td>1</td>\n",
              "      <td>Clear + Few clouds</td>\n",
              "      <td>17.22</td>\n",
              "      <td>21.210</td>\n",
              "      <td>94</td>\n",
              "      <td>8.9981</td>\n",
              "      <td>29</td>\n",
              "      <td>5/12/2011</td>\n",
              "      <td>5</td>\n",
              "      <td>Thursday</td>\n",
              "      <td>May</td>\n",
              "    </tr>\n",
              "    <tr>\n",
              "      <th>2177</th>\n",
              "      <td>7/18/2012 16:00</td>\n",
              "      <td>Fall</td>\n",
              "      <td>0</td>\n",
              "      <td>1</td>\n",
              "      <td>Clear + Few clouds</td>\n",
              "      <td>30.34</td>\n",
              "      <td>34.850</td>\n",
              "      <td>66</td>\n",
              "      <td>16.9979</td>\n",
              "      <td>224</td>\n",
              "      <td>7/18/2012</td>\n",
              "      <td>16</td>\n",
              "      <td>Wednesday</td>\n",
              "      <td>July</td>\n",
              "    </tr>\n",
              "  </tbody>\n",
              "</table>\n",
              "<p>2178 rows × 14 columns</p>\n",
              "</div>\n",
              "      <button class=\"colab-df-convert\" onclick=\"convertToInteractive('df-dccf5249-ce61-42d6-b6aa-49271a93ee5d')\"\n",
              "              title=\"Convert this dataframe to an interactive table.\"\n",
              "              style=\"display:none;\">\n",
              "        \n",
              "  <svg xmlns=\"http://www.w3.org/2000/svg\" height=\"24px\"viewBox=\"0 0 24 24\"\n",
              "       width=\"24px\">\n",
              "    <path d=\"M0 0h24v24H0V0z\" fill=\"none\"/>\n",
              "    <path d=\"M18.56 5.44l.94 2.06.94-2.06 2.06-.94-2.06-.94-.94-2.06-.94 2.06-2.06.94zm-11 1L8.5 8.5l.94-2.06 2.06-.94-2.06-.94L8.5 2.5l-.94 2.06-2.06.94zm10 10l.94 2.06.94-2.06 2.06-.94-2.06-.94-.94-2.06-.94 2.06-2.06.94z\"/><path d=\"M17.41 7.96l-1.37-1.37c-.4-.4-.92-.59-1.43-.59-.52 0-1.04.2-1.43.59L10.3 9.45l-7.72 7.72c-.78.78-.78 2.05 0 2.83L4 21.41c.39.39.9.59 1.41.59.51 0 1.02-.2 1.41-.59l7.78-7.78 2.81-2.81c.8-.78.8-2.07 0-2.86zM5.41 20L4 18.59l7.72-7.72 1.47 1.35L5.41 20z\"/>\n",
              "  </svg>\n",
              "      </button>\n",
              "      \n",
              "  <style>\n",
              "    .colab-df-container {\n",
              "      display:flex;\n",
              "      flex-wrap:wrap;\n",
              "      gap: 12px;\n",
              "    }\n",
              "\n",
              "    .colab-df-convert {\n",
              "      background-color: #E8F0FE;\n",
              "      border: none;\n",
              "      border-radius: 50%;\n",
              "      cursor: pointer;\n",
              "      display: none;\n",
              "      fill: #1967D2;\n",
              "      height: 32px;\n",
              "      padding: 0 0 0 0;\n",
              "      width: 32px;\n",
              "    }\n",
              "\n",
              "    .colab-df-convert:hover {\n",
              "      background-color: #E2EBFA;\n",
              "      box-shadow: 0px 1px 2px rgba(60, 64, 67, 0.3), 0px 1px 3px 1px rgba(60, 64, 67, 0.15);\n",
              "      fill: #174EA6;\n",
              "    }\n",
              "\n",
              "    [theme=dark] .colab-df-convert {\n",
              "      background-color: #3B4455;\n",
              "      fill: #D2E3FC;\n",
              "    }\n",
              "\n",
              "    [theme=dark] .colab-df-convert:hover {\n",
              "      background-color: #434B5C;\n",
              "      box-shadow: 0px 1px 3px 1px rgba(0, 0, 0, 0.15);\n",
              "      filter: drop-shadow(0px 1px 2px rgba(0, 0, 0, 0.3));\n",
              "      fill: #FFFFFF;\n",
              "    }\n",
              "  </style>\n",
              "\n",
              "      <script>\n",
              "        const buttonEl =\n",
              "          document.querySelector('#df-dccf5249-ce61-42d6-b6aa-49271a93ee5d button.colab-df-convert');\n",
              "        buttonEl.style.display =\n",
              "          google.colab.kernel.accessAllowed ? 'block' : 'none';\n",
              "\n",
              "        async function convertToInteractive(key) {\n",
              "          const element = document.querySelector('#df-dccf5249-ce61-42d6-b6aa-49271a93ee5d');\n",
              "          const dataTable =\n",
              "            await google.colab.kernel.invokeFunction('convertToInteractive',\n",
              "                                                     [key], {});\n",
              "          if (!dataTable) return;\n",
              "\n",
              "          const docLinkHtml = 'Like what you see? Visit the ' +\n",
              "            '<a target=\"_blank\" href=https://colab.research.google.com/notebooks/data_table.ipynb>data table notebook</a>'\n",
              "            + ' to learn more about interactive tables.';\n",
              "          element.innerHTML = '';\n",
              "          dataTable['output_type'] = 'display_data';\n",
              "          await google.colab.output.renderOutput(dataTable, element);\n",
              "          const docLink = document.createElement('div');\n",
              "          docLink.innerHTML = docLinkHtml;\n",
              "          element.appendChild(docLink);\n",
              "        }\n",
              "      </script>\n",
              "    </div>\n",
              "  </div>\n",
              "  "
            ],
            "text/plain": [
              "              datetime  season  holiday  ...  hour    weekday    month\n",
              "0      5/10/2012 11:00  Summer        0  ...    11   Thursday      May\n",
              "1        6/9/2012 7:00  Summer        0  ...     7   Saturday     June\n",
              "2       3/6/2011 20:00  Spring        0  ...    20     Sunday    March\n",
              "3     10/13/2011 11:00  Winter        0  ...    11   Thursday  October\n",
              "4       6/2/2012 12:00  Summer        0  ...    12   Saturday     June\n",
              "...                ...     ...      ...  ...   ...        ...      ...\n",
              "2173     3/8/2012 3:00  Spring        0  ...     3   Thursday    March\n",
              "2174   1/12/2012 12:00  Spring        0  ...    12   Thursday  January\n",
              "2175    3/7/2012 22:00  Spring        0  ...    22  Wednesday    March\n",
              "2176    5/12/2011 5:00  Summer        0  ...     5   Thursday      May\n",
              "2177   7/18/2012 16:00    Fall        0  ...    16  Wednesday     July\n",
              "\n",
              "[2178 rows x 14 columns]"
            ]
          },
          "metadata": {},
          "execution_count": 176
        }
      ]
    },
    {
      "cell_type": "markdown",
      "source": [
        "### **Outliers Analysis**\n",
        "\n",
        "---\n",
        "\n"
      ],
      "metadata": {
        "id": "8yCsiJsMzf-0"
      }
    },
    {
      "cell_type": "code",
      "source": [
        "sns.boxplot(x=train['atemp'])"
      ],
      "metadata": {
        "colab": {
          "base_uri": "https://localhost:8080/",
          "height": 305
        },
        "id": "PaOK957WS-vg",
        "outputId": "9ffa6cfe-cdbc-45b7-8f3b-b496f4103356"
      },
      "execution_count": null,
      "outputs": [
        {
          "output_type": "execute_result",
          "data": {
            "text/plain": [
              "<matplotlib.axes._subplots.AxesSubplot at 0x7f0e1a163710>"
            ]
          },
          "metadata": {},
          "execution_count": 203
        },
        {
          "output_type": "display_data",
          "data": {
            "image/png": "[encoded data removed]",
            "text/plain": [
              "<Figure size 432x288 with 1 Axes>"
            ]
          },
          "metadata": {
            "needs_background": "light"
          }
        }
      ]
    },
    {
      "cell_type": "code",
      "source": [
        "sns.boxplot(x=train['humidity'])"
      ],
      "metadata": {
        "colab": {
          "base_uri": "https://localhost:8080/",
          "height": 305
        },
        "id": "tsBHIh0jS-r6",
        "outputId": "ca4ba825-4e11-4b9a-9ae7-b6c9f0469bf7"
      },
      "execution_count": null,
      "outputs": [
        {
          "output_type": "execute_result",
          "data": {
            "text/plain": [
              "<matplotlib.axes._subplots.AxesSubplot at 0x7f0e1a2dadd0>"
            ]
          },
          "metadata": {},
          "execution_count": 201
        },
        {
          "output_type": "display_data",
          "data": {
            "image/png": "[encoded data removed]",
            "text/plain": [
              "<Figure size 432x288 with 1 Axes>"
            ]
          },
          "metadata": {
            "needs_background": "light"
          }
        }
      ]
    },
    {
      "cell_type": "code",
      "source": [
        "sns.boxplot(x=train['temp'])"
      ],
      "metadata": {
        "id": "4TjDquwZ4OJI",
        "colab": {
          "base_uri": "https://localhost:8080/",
          "height": 305
        },
        "outputId": "3f67f33e-5efb-4cc6-cfd8-a53d881fc834"
      },
      "execution_count": null,
      "outputs": [
        {
          "output_type": "execute_result",
          "data": {
            "text/plain": [
              "<matplotlib.axes._subplots.AxesSubplot at 0x7f0e1c6764d0>"
            ]
          },
          "metadata": {},
          "execution_count": 118
        },
        {
          "output_type": "display_data",
          "data": {
            "image/png": "[encoded data removed]",
            "text/plain": [
              "<Figure size 432x288 with 1 Axes>"
            ]
          },
          "metadata": {
            "needs_background": "light"
          }
        }
      ]
    },
    {
      "cell_type": "code",
      "source": [
        "sns.boxplot(x=train['windspeed'])"
      ],
      "metadata": {
        "colab": {
          "base_uri": "https://localhost:8080/",
          "height": 305
        },
        "id": "EU2dw6Omv7r-",
        "outputId": "cfaef3ca-3b07-43a8-91fb-8a98925fe3e3"
      },
      "execution_count": null,
      "outputs": [
        {
          "output_type": "execute_result",
          "data": {
            "text/plain": [
              "<matplotlib.axes._subplots.AxesSubplot at 0x7f0e1c6a8a90>"
            ]
          },
          "metadata": {},
          "execution_count": 119
        },
        {
          "output_type": "display_data",
          "data": {
            "image/png": "[encoded data removed]",
            "text/plain": [
              "<Figure size 432x288 with 1 Axes>"
            ]
          },
          "metadata": {
            "needs_background": "light"
          }
        }
      ]
    },
    {
      "cell_type": "code",
      "source": [
        "q1=train['windspeed'].quantile(.25)\n",
        "q3=train['windspeed'].quantile(.75)\n",
        "IQR = q3-q1\n",
        "train['windspeed']=np.clip(train['windspeed'],q1- 1.5 * IQR, q3+1.5 *IQR)"
      ],
      "metadata": {
        "id": "H5H1Qmyat7k5"
      },
      "execution_count": null,
      "outputs": []
    },
    {
      "cell_type": "code",
      "source": [
        "sns.boxplot(x=train['windspeed'])"
      ],
      "metadata": {
        "id": "T8Igk91t4a3X",
        "colab": {
          "base_uri": "https://localhost:8080/",
          "height": 305
        },
        "outputId": "c62c9992-7353-4da3-b304-be3c509f28b1"
      },
      "execution_count": null,
      "outputs": [
        {
          "output_type": "execute_result",
          "data": {
            "text/plain": [
              "<matplotlib.axes._subplots.AxesSubplot at 0x7f0e1c606f90>"
            ]
          },
          "metadata": {},
          "execution_count": 124
        },
        {
          "output_type": "display_data",
          "data": {
            "image/png": "[encoded data removed]",
            "text/plain": [
              "<Figure size 432x288 with 1 Axes>"
            ]
          },
          "metadata": {
            "needs_background": "light"
          }
        }
      ]
    },
    {
      "cell_type": "markdown",
      "source": [
        "### **Correlation** **Analysis**\n",
        "\n",
        "---\n",
        "\n"
      ],
      "metadata": {
        "id": "z4ygxTaMzftx"
      }
    },
    {
      "cell_type": "code",
      "source": [
        "corr=train.corr()['Total_booking']\n",
        "corr[np.argsort(corr, axis=0)[::-1]]"
      ],
      "metadata": {
        "colab": {
          "base_uri": "https://localhost:8080/"
        },
        "id": "B-eDQvfpXxTI",
        "outputId": "8ac5f1e1-a2dd-4dd2-e4bd-276eae8d2a59"
      },
      "execution_count": null,
      "outputs": [
        {
          "output_type": "execute_result",
          "data": {
            "text/plain": [
              "Total_booking    1.000000\n",
              "temp             0.402210\n",
              "atemp            0.397661\n",
              "windspeed        0.099736\n",
              "workingday       0.003846\n",
              "holiday         -0.002029\n",
              "humidity        -0.313648\n",
              "Name: Total_booking, dtype: float64"
            ]
          },
          "metadata": {},
          "execution_count": 125
        }
      ]
    },
    {
      "cell_type": "code",
      "source": [
        "corrMatrix= train[['Total_booking', 'temp','atemp','humidity', 'windspeed']].corr()\n",
        "sns.set(font_scale = 1.10)\n",
        "plt.figure(figsize=(12,12))\n",
        "sns.heatmap(corrMatrix , vmax=.8 ,linewidths=0.01,square=True , annot=True,cmap='Blues', linecolor='white')\n",
        "plt.show\n"
      ],
      "metadata": {
        "colab": {
          "base_uri": "https://localhost:8080/",
          "height": 705
        },
        "id": "B_r13EkwYMpB",
        "outputId": "9e114f2c-b0cc-4f82-8291-827774cfec9c"
      },
      "execution_count": null,
      "outputs": [
        {
          "output_type": "execute_result",
          "data": {
            "text/plain": [
              "<function matplotlib.pyplot.show>"
            ]
          },
          "metadata": {},
          "execution_count": 126
        },
        {
          "output_type": "display_data",
          "data": {
            "image/png": "[encoded data removed]",
            "text/plain": [
              "<Figure size 864x864 with 2 Axes>"
            ]
          },
          "metadata": {}
        }
      ]
    },
    {
      "cell_type": "code",
      "source": [
        "correlation = train.corr()\n",
        "fig = plt.figure(figsize=(12,10))\n",
        "sns.heatmap(correlation, cmap='Blues', annot = True, vmax = 1, square = True,vmin=-1)\n",
        "plt.title('Correlation between features');\n",
        "plt.show"
      ],
      "metadata": {
        "id": "QJYMWzi_0ydy",
        "colab": {
          "base_uri": "https://localhost:8080/",
          "height": 622
        },
        "outputId": "deb5dbb8-33b1-4e2c-e956-35f7f401fc68"
      },
      "execution_count": null,
      "outputs": [
        {
          "output_type": "execute_result",
          "data": {
            "text/plain": [
              "<function matplotlib.pyplot.show>"
            ]
          },
          "metadata": {},
          "execution_count": 127
        },
        {
          "output_type": "display_data",
          "data": {
            "image/png": "[encoded data removed]",
            "text/plain": [
              "<Figure size 864x720 with 2 Axes>"
            ]
          },
          "metadata": {}
        }
      ]
    },
    {
      "cell_type": "markdown",
      "source": [
        "temp and atemp are highly correlated"
      ],
      "metadata": {
        "id": "--_95A5gz9xn"
      }
    },
    {
      "cell_type": "markdown",
      "source": [
        "###**Data Visualization**\n",
        "\n",
        "---\n"
      ],
      "metadata": {
        "id": "HQjAGsAazfql"
      }
    },
    {
      "cell_type": "code",
      "source": [
        "plt.figure(figsize=(15,10))\n",
        "sns.scatterplot(data=train ,x='season',y='Total_booking')"
      ],
      "metadata": {
        "colab": {
          "base_uri": "https://localhost:8080/",
          "height": 631
        },
        "id": "BCgT5dEbirGi",
        "outputId": "787ef030-3ace-4773-fdb1-db3e81c5d2e3"
      },
      "execution_count": null,
      "outputs": [
        {
          "output_type": "execute_result",
          "data": {
            "text/plain": [
              "<matplotlib.axes._subplots.AxesSubplot at 0x7f0e1c578810>"
            ]
          },
          "metadata": {},
          "execution_count": 128
        },
        {
          "output_type": "display_data",
          "data": {
            "image/png": "[encoded data removed]",
            "text/plain": [
              "<Figure size 1080x720 with 1 Axes>"
            ]
          },
          "metadata": {}
        }
      ]
    },
    {
      "cell_type": "code",
      "source": [
        "plt.figure(figsize=(15,10))\n",
        "sns.lineplot(data=train ,x='month', y='Total_booking')"
      ],
      "metadata": {
        "id": "eNr8MpE5554Y",
        "colab": {
          "base_uri": "https://localhost:8080/",
          "height": 631
        },
        "outputId": "e95e6f4a-0d16-4e84-e18e-29aa707e249c"
      },
      "execution_count": null,
      "outputs": [
        {
          "output_type": "execute_result",
          "data": {
            "text/plain": [
              "<matplotlib.axes._subplots.AxesSubplot at 0x7f0e1c3dde90>"
            ]
          },
          "metadata": {},
          "execution_count": 129
        },
        {
          "output_type": "display_data",
          "data": {
            "image/png": "[encoded data removed]",
            "text/plain": [
              "<Figure size 1080x720 with 1 Axes>"
            ]
          },
          "metadata": {}
        }
      ]
    },
    {
      "cell_type": "code",
      "source": [
        "plt.figure(figsize=(10,5))\n",
        "sns.barplot(data=train ,x='hour' ,y='Total_booking')"
      ],
      "metadata": {
        "id": "mTnVWluB551a",
        "colab": {
          "base_uri": "https://localhost:8080/",
          "height": 359
        },
        "outputId": "30fa1159-fa83-4902-b775-8bb19f762544"
      },
      "execution_count": null,
      "outputs": [
        {
          "output_type": "execute_result",
          "data": {
            "text/plain": [
              "<matplotlib.axes._subplots.AxesSubplot at 0x7f0e1c4d7490>"
            ]
          },
          "metadata": {},
          "execution_count": 130
        },
        {
          "output_type": "display_data",
          "data": {
            "image/png": "[encoded data removed]",
            "text/plain": [
              "<Figure size 720x360 with 1 Axes>"
            ]
          },
          "metadata": {}
        }
      ]
    },
    {
      "cell_type": "code",
      "source": [
        "\n",
        "sns.barplot(data=train ,x='workingday' ,y='Total_booking')"
      ],
      "metadata": {
        "colab": {
          "base_uri": "https://localhost:8080/",
          "height": 305
        },
        "id": "-bz28cus0f1F",
        "outputId": "3d410633-7052-4198-e212-9ae41d5b4656"
      },
      "execution_count": null,
      "outputs": [
        {
          "output_type": "execute_result",
          "data": {
            "text/plain": [
              "<matplotlib.axes._subplots.AxesSubplot at 0x7f0e1c1c1950>"
            ]
          },
          "metadata": {},
          "execution_count": 131
        },
        {
          "output_type": "display_data",
          "data": {
            "image/png": "[encoded data removed]",
            "text/plain": [
              "<Figure size 432x288 with 1 Axes>"
            ]
          },
          "metadata": {}
        }
      ]
    },
    {
      "cell_type": "code",
      "source": [
        "##histograms\n",
        "plt.hist(train['humidity'])\n",
        "plt.show()"
      ],
      "metadata": {
        "id": "QYzdWBLO71Nr",
        "colab": {
          "base_uri": "https://localhost:8080/",
          "height": 271
        },
        "outputId": "02add3d1-e8ac-422c-9798-51ef04c9c271"
      },
      "execution_count": null,
      "outputs": [
        {
          "output_type": "display_data",
          "data": {
            "image/png": "[encoded data removed]",
            "text/plain": [
              "<Figure size 432x288 with 1 Axes>"
            ]
          },
          "metadata": {}
        }
      ]
    },
    {
      "cell_type": "code",
      "source": [
        "plt.hist(train['temp'])\n",
        "plt.show()"
      ],
      "metadata": {
        "colab": {
          "base_uri": "https://localhost:8080/",
          "height": 271
        },
        "id": "CNSd56-_0cAn",
        "outputId": "1f1b1eaa-ef34-4ff8-c727-0379d92b24ac"
      },
      "execution_count": null,
      "outputs": [
        {
          "output_type": "display_data",
          "data": {
            "image/png": "[encoded data removed]",
            "text/plain": [
              "<Figure size 432x288 with 1 Axes>"
            ]
          },
          "metadata": {}
        }
      ]
    },
    {
      "cell_type": "code",
      "source": [
        "plt.hist(train['Total_booking'])\n",
        "plt.show()"
      ],
      "metadata": {
        "colab": {
          "base_uri": "https://localhost:8080/",
          "height": 271
        },
        "id": "px5SSTvA0c8M",
        "outputId": "96a8846b-e43d-4ba8-fe06-e24e16065bce"
      },
      "execution_count": null,
      "outputs": [
        {
          "output_type": "display_data",
          "data": {
            "image/png": "[encoded data removed]",
            "text/plain": [
              "<Figure size 432x288 with 1 Axes>"
            ]
          },
          "metadata": {}
        }
      ]
    },
    {
      "cell_type": "markdown",
      "source": [
        "### **Converting the categorical data**\n",
        "\n",
        "\n",
        "\n",
        "\n",
        "---\n",
        "\n"
      ],
      "metadata": {
        "id": "8jY-f0Ejzfoa"
      }
    },
    {
      "cell_type": "code",
      "source": [
        "from sklearn.preprocessing import LabelEncoder"
      ],
      "metadata": {
        "id": "p1S10__01JNp"
      },
      "execution_count": null,
      "outputs": []
    },
    {
      "cell_type": "code",
      "source": [
        "le=LabelEncoder()\n",
        "train['weekday']=le.fit_transform(train['weekday'])\n",
        "train['season']=le.fit_transform(train['season'])\n",
        "train['month']=le.fit_transform(train['month'])\n",
        "train['weather']=le.fit_transform(train['weather'])\n",
        "train['date']=le.fit_transform(train['date'])\n",
        "train['temp']=le.fit_transform(train['temp'])\n",
        "train['atemp']=le.fit_transform(train['atemp'])\n",
        "train['windspeed']=le.fit_transform(train['windspeed'])"
      ],
      "metadata": {
        "id": "7_6s_8LrHOb7"
      },
      "execution_count": null,
      "outputs": []
    },
    {
      "cell_type": "code",
      "source": [
        "train"
      ],
      "metadata": {
        "colab": {
          "base_uri": "https://localhost:8080/",
          "height": 424
        },
        "id": "L8vjiI9beKZ_",
        "outputId": "b98cabb4-149e-4a9d-9a0b-2a2f190902d7"
      },
      "execution_count": null,
      "outputs": [
        {
          "output_type": "execute_result",
          "data": {
            "text/html": [
              "\n",
              "  <div id=\"df-6f58f0c6-2ddb-4dcd-8026-4428a1823d94\">\n",
              "    <div class=\"colab-df-container\">\n",
              "      <div>\n",
              "<style scoped>\n",
              "    .dataframe tbody tr th:only-of-type {\n",
              "        vertical-align: middle;\n",
              "    }\n",
              "\n",
              "    .dataframe tbody tr th {\n",
              "        vertical-align: top;\n",
              "    }\n",
              "\n",
              "    .dataframe thead th {\n",
              "        text-align: right;\n",
              "    }\n",
              "</style>\n",
              "<table border=\"1\" class=\"dataframe\">\n",
              "  <thead>\n",
              "    <tr style=\"text-align: right;\">\n",
              "      <th></th>\n",
              "      <th>season</th>\n",
              "      <th>holiday</th>\n",
              "      <th>workingday</th>\n",
              "      <th>weather</th>\n",
              "      <th>temp</th>\n",
              "      <th>atemp</th>\n",
              "      <th>humidity</th>\n",
              "      <th>windspeed</th>\n",
              "      <th>Total_booking</th>\n",
              "      <th>date</th>\n",
              "      <th>hour</th>\n",
              "      <th>weekday</th>\n",
              "      <th>month</th>\n",
              "    </tr>\n",
              "  </thead>\n",
              "  <tbody>\n",
              "    <tr>\n",
              "      <th>0</th>\n",
              "      <td>2</td>\n",
              "      <td>0</td>\n",
              "      <td>1</td>\n",
              "      <td>0</td>\n",
              "      <td>26</td>\n",
              "      <td>33</td>\n",
              "      <td>77</td>\n",
              "      <td>7</td>\n",
              "      <td>504.0</td>\n",
              "      <td>289</td>\n",
              "      <td>19</td>\n",
              "      <td>6</td>\n",
              "      <td>8</td>\n",
              "    </tr>\n",
              "    <tr>\n",
              "      <th>1</th>\n",
              "      <td>0</td>\n",
              "      <td>0</td>\n",
              "      <td>1</td>\n",
              "      <td>0</td>\n",
              "      <td>34</td>\n",
              "      <td>43</td>\n",
              "      <td>79</td>\n",
              "      <td>8</td>\n",
              "      <td>5.0</td>\n",
              "      <td>447</td>\n",
              "      <td>4</td>\n",
              "      <td>6</td>\n",
              "      <td>11</td>\n",
              "    </tr>\n",
              "    <tr>\n",
              "      <th>2</th>\n",
              "      <td>1</td>\n",
              "      <td>0</td>\n",
              "      <td>1</td>\n",
              "      <td>0</td>\n",
              "      <td>6</td>\n",
              "      <td>7</td>\n",
              "      <td>50</td>\n",
              "      <td>10</td>\n",
              "      <td>139.0</td>\n",
              "      <td>8</td>\n",
              "      <td>9</td>\n",
              "      <td>4</td>\n",
              "      <td>4</td>\n",
              "    </tr>\n",
              "    <tr>\n",
              "      <th>3</th>\n",
              "      <td>3</td>\n",
              "      <td>0</td>\n",
              "      <td>1</td>\n",
              "      <td>0</td>\n",
              "      <td>16</td>\n",
              "      <td>21</td>\n",
              "      <td>29</td>\n",
              "      <td>3</td>\n",
              "      <td>209.0</td>\n",
              "      <td>94</td>\n",
              "      <td>16</td>\n",
              "      <td>0</td>\n",
              "      <td>9</td>\n",
              "    </tr>\n",
              "    <tr>\n",
              "      <th>4</th>\n",
              "      <td>0</td>\n",
              "      <td>0</td>\n",
              "      <td>1</td>\n",
              "      <td>0</td>\n",
              "      <td>36</td>\n",
              "      <td>43</td>\n",
              "      <td>51</td>\n",
              "      <td>8</td>\n",
              "      <td>184.0</td>\n",
              "      <td>426</td>\n",
              "      <td>13</td>\n",
              "      <td>5</td>\n",
              "      <td>11</td>\n",
              "    </tr>\n",
              "    <tr>\n",
              "      <th>...</th>\n",
              "      <td>...</td>\n",
              "      <td>...</td>\n",
              "      <td>...</td>\n",
              "      <td>...</td>\n",
              "      <td>...</td>\n",
              "      <td>...</td>\n",
              "      <td>...</td>\n",
              "      <td>...</td>\n",
              "      <td>...</td>\n",
              "      <td>...</td>\n",
              "      <td>...</td>\n",
              "      <td>...</td>\n",
              "      <td>...</td>\n",
              "    </tr>\n",
              "    <tr>\n",
              "      <th>8703</th>\n",
              "      <td>1</td>\n",
              "      <td>1</td>\n",
              "      <td>0</td>\n",
              "      <td>0</td>\n",
              "      <td>4</td>\n",
              "      <td>8</td>\n",
              "      <td>54</td>\n",
              "      <td>1</td>\n",
              "      <td>13.0</td>\n",
              "      <td>15</td>\n",
              "      <td>6</td>\n",
              "      <td>1</td>\n",
              "      <td>4</td>\n",
              "    </tr>\n",
              "    <tr>\n",
              "      <th>8704</th>\n",
              "      <td>3</td>\n",
              "      <td>0</td>\n",
              "      <td>1</td>\n",
              "      <td>3</td>\n",
              "      <td>19</td>\n",
              "      <td>26</td>\n",
              "      <td>87</td>\n",
              "      <td>0</td>\n",
              "      <td>11.0</td>\n",
              "      <td>78</td>\n",
              "      <td>1</td>\n",
              "      <td>4</td>\n",
              "      <td>9</td>\n",
              "    </tr>\n",
              "    <tr>\n",
              "      <th>8705</th>\n",
              "      <td>2</td>\n",
              "      <td>0</td>\n",
              "      <td>1</td>\n",
              "      <td>3</td>\n",
              "      <td>28</td>\n",
              "      <td>35</td>\n",
              "      <td>56</td>\n",
              "      <td>3</td>\n",
              "      <td>1.0</td>\n",
              "      <td>234</td>\n",
              "      <td>3</td>\n",
              "      <td>5</td>\n",
              "      <td>0</td>\n",
              "    </tr>\n",
              "    <tr>\n",
              "      <th>8706</th>\n",
              "      <td>3</td>\n",
              "      <td>0</td>\n",
              "      <td>1</td>\n",
              "      <td>3</td>\n",
              "      <td>13</td>\n",
              "      <td>17</td>\n",
              "      <td>61</td>\n",
              "      <td>7</td>\n",
              "      <td>92.0</td>\n",
              "      <td>109</td>\n",
              "      <td>1</td>\n",
              "      <td>6</td>\n",
              "      <td>9</td>\n",
              "    </tr>\n",
              "    <tr>\n",
              "      <th>8707</th>\n",
              "      <td>1</td>\n",
              "      <td>0</td>\n",
              "      <td>1</td>\n",
              "      <td>3</td>\n",
              "      <td>6</td>\n",
              "      <td>7</td>\n",
              "      <td>50</td>\n",
              "      <td>9</td>\n",
              "      <td>31.0</td>\n",
              "      <td>2</td>\n",
              "      <td>10</td>\n",
              "      <td>1</td>\n",
              "      <td>4</td>\n",
              "    </tr>\n",
              "  </tbody>\n",
              "</table>\n",
              "<p>8708 rows × 13 columns</p>\n",
              "</div>\n",
              "      <button class=\"colab-df-convert\" onclick=\"convertToInteractive('df-6f58f0c6-2ddb-4dcd-8026-4428a1823d94')\"\n",
              "              title=\"Convert this dataframe to an interactive table.\"\n",
              "              style=\"display:none;\">\n",
              "        \n",
              "  <svg xmlns=\"http://www.w3.org/2000/svg\" height=\"24px\"viewBox=\"0 0 24 24\"\n",
              "       width=\"24px\">\n",
              "    <path d=\"M0 0h24v24H0V0z\" fill=\"none\"/>\n",
              "    <path d=\"M18.56 5.44l.94 2.06.94-2.06 2.06-.94-2.06-.94-.94-2.06-.94 2.06-2.06.94zm-11 1L8.5 8.5l.94-2.06 2.06-.94-2.06-.94L8.5 2.5l-.94 2.06-2.06.94zm10 10l.94 2.06.94-2.06 2.06-.94-2.06-.94-.94-2.06-.94 2.06-2.06.94z\"/><path d=\"M17.41 7.96l-1.37-1.37c-.4-.4-.92-.59-1.43-.59-.52 0-1.04.2-1.43.59L10.3 9.45l-7.72 7.72c-.78.78-.78 2.05 0 2.83L4 21.41c.39.39.9.59 1.41.59.51 0 1.02-.2 1.41-.59l7.78-7.78 2.81-2.81c.8-.78.8-2.07 0-2.86zM5.41 20L4 18.59l7.72-7.72 1.47 1.35L5.41 20z\"/>\n",
              "  </svg>\n",
              "      </button>\n",
              "      \n",
              "  <style>\n",
              "    .colab-df-container {\n",
              "      display:flex;\n",
              "      flex-wrap:wrap;\n",
              "      gap: 12px;\n",
              "    }\n",
              "\n",
              "    .colab-df-convert {\n",
              "      background-color: #E8F0FE;\n",
              "      border: none;\n",
              "      border-radius: 50%;\n",
              "      cursor: pointer;\n",
              "      display: none;\n",
              "      fill: #1967D2;\n",
              "      height: 32px;\n",
              "      padding: 0 0 0 0;\n",
              "      width: 32px;\n",
              "    }\n",
              "\n",
              "    .colab-df-convert:hover {\n",
              "      background-color: #E2EBFA;\n",
              "      box-shadow: 0px 1px 2px rgba(60, 64, 67, 0.3), 0px 1px 3px 1px rgba(60, 64, 67, 0.15);\n",
              "      fill: #174EA6;\n",
              "    }\n",
              "\n",
              "    [theme=dark] .colab-df-convert {\n",
              "      background-color: #3B4455;\n",
              "      fill: #D2E3FC;\n",
              "    }\n",
              "\n",
              "    [theme=dark] .colab-df-convert:hover {\n",
              "      background-color: #434B5C;\n",
              "      box-shadow: 0px 1px 3px 1px rgba(0, 0, 0, 0.15);\n",
              "      filter: drop-shadow(0px 1px 2px rgba(0, 0, 0, 0.3));\n",
              "      fill: #FFFFFF;\n",
              "    }\n",
              "  </style>\n",
              "\n",
              "      <script>\n",
              "        const buttonEl =\n",
              "          document.querySelector('#df-6f58f0c6-2ddb-4dcd-8026-4428a1823d94 button.colab-df-convert');\n",
              "        buttonEl.style.display =\n",
              "          google.colab.kernel.accessAllowed ? 'block' : 'none';\n",
              "\n",
              "        async function convertToInteractive(key) {\n",
              "          const element = document.querySelector('#df-6f58f0c6-2ddb-4dcd-8026-4428a1823d94');\n",
              "          const dataTable =\n",
              "            await google.colab.kernel.invokeFunction('convertToInteractive',\n",
              "                                                     [key], {});\n",
              "          if (!dataTable) return;\n",
              "\n",
              "          const docLinkHtml = 'Like what you see? Visit the ' +\n",
              "            '<a target=\"_blank\" href=https://colab.research.google.com/notebooks/data_table.ipynb>data table notebook</a>'\n",
              "            + ' to learn more about interactive tables.';\n",
              "          element.innerHTML = '';\n",
              "          dataTable['output_type'] = 'display_data';\n",
              "          await google.colab.output.renderOutput(dataTable, element);\n",
              "          const docLink = document.createElement('div');\n",
              "          docLink.innerHTML = docLinkHtml;\n",
              "          element.appendChild(docLink);\n",
              "        }\n",
              "      </script>\n",
              "    </div>\n",
              "  </div>\n",
              "  "
            ],
            "text/plain": [
              "      season  holiday  workingday  weather  ...  date  hour  weekday  month\n",
              "0          2        0           1        0  ...   289    19        6      8\n",
              "1          0        0           1        0  ...   447     4        6     11\n",
              "2          1        0           1        0  ...     8     9        4      4\n",
              "3          3        0           1        0  ...    94    16        0      9\n",
              "4          0        0           1        0  ...   426    13        5     11\n",
              "...      ...      ...         ...      ...  ...   ...   ...      ...    ...\n",
              "8703       1        1           0        0  ...    15     6        1      4\n",
              "8704       3        0           1        3  ...    78     1        4      9\n",
              "8705       2        0           1        3  ...   234     3        5      0\n",
              "8706       3        0           1        3  ...   109     1        6      9\n",
              "8707       1        0           1        3  ...     2    10        1      4\n",
              "\n",
              "[8708 rows x 13 columns]"
            ]
          },
          "metadata": {},
          "execution_count": 137
        }
      ]
    },
    {
      "cell_type": "markdown",
      "source": [
        "### **Splitting the datasets for training and testing.**\n",
        "\n",
        "---\n",
        "\n"
      ],
      "metadata": {
        "id": "ywQ2OfSi1Ju6"
      }
    },
    {
      "cell_type": "code",
      "source": [
        "X = train.drop('Total_booking', axis =1)\n",
        "y = train['Total_booking']"
      ],
      "metadata": {
        "id": "cCovuDrE58PT"
      },
      "execution_count": null,
      "outputs": []
    },
    {
      "cell_type": "code",
      "source": [
        "from sklearn.model_selection import train_test_split\n",
        "X_train, X_test, y_train, y_test = train_test_split(X, y, train_size=0.8,test_size =0.2 , random_state = 101)\n",
        "print(X_train.shape)\n",
        "print(X_test.shape)"
      ],
      "metadata": {
        "id": "_NHmARanHt_Z",
        "colab": {
          "base_uri": "https://localhost:8080/"
        },
        "outputId": "a52284bf-ee9d-4374-e0cf-25ed07274869"
      },
      "execution_count": null,
      "outputs": [
        {
          "output_type": "stream",
          "name": "stdout",
          "text": [
            "(6966, 12)\n",
            "(1742, 12)\n"
          ]
        }
      ]
    },
    {
      "cell_type": "markdown",
      "source": [
        "### **Training models**\n",
        "\n",
        "---\n",
        "\n"
      ],
      "metadata": {
        "id": "fAibuYz91Jq2"
      }
    },
    {
      "cell_type": "code",
      "source": [
        "RF = RandomForestRegressor( random_state = 0)\n",
        "RF.fit(X_train,y_train)\n",
        "y_pred_RF = RF.predict(X_test)\n",
        "y_pred_train = RF.predict(X_train)"
      ],
      "metadata": {
        "id": "B2imLSNR59jb"
      },
      "execution_count": null,
      "outputs": []
    },
    {
      "cell_type": "code",
      "source": [
        "SVR = SVR()\n",
        "SVR.fit(X_train, y_train)\n",
        "y_pred_SVR = SVR.predict(X_test)\n",
        "\n",
        "KNN = KNeighborsRegressor()\n",
        "KNN.fit(X_train, y_train)\n",
        "y_pred_KNN = KNN.predict(X_test)\n"
      ],
      "metadata": {
        "id": "0jc3wcxW59RW"
      },
      "execution_count": null,
      "outputs": []
    },
    {
      "cell_type": "code",
      "source": [
        "BR=BaggingRegressor()\n",
        "BR.fit(X_train,y_train)\n",
        "y_pred_BR=BR.predict(X_test)\n",
        "\n",
        "\n",
        "GB = GradientBoostingRegressor()\n",
        "GB.fit(X_train, y_train)\n",
        "y_pred_GB = GB.predict(X_test)"
      ],
      "metadata": {
        "id": "AFmnBcD6pS4u"
      },
      "execution_count": null,
      "outputs": []
    },
    {
      "cell_type": "code",
      "source": [
        "from sklearn.metrics import r2_score, mean_squared_error\n",
        "\n",
        "print('R squ value for RF:', r2_score(y_test, y_pred_RF))\n",
        "print('R squ value for SVM:', r2_score(y_test, y_pred_SVR))\n",
        "print('R squ value for KNN:', r2_score(y_test, y_pred_KNN))\n",
        "print('R squ value for GB:', r2_score(y_test, y_pred_GB))\n",
        "print('R squ valur for BR :',r2_score(y_test,y_pred_BR))\n"
      ],
      "metadata": {
        "colab": {
          "base_uri": "https://localhost:8080/"
        },
        "id": "t-F4j_OjpS1u",
        "outputId": "3e5c11af-7556-4c67-97b8-5d5687186775"
      },
      "execution_count": null,
      "outputs": [
        {
          "output_type": "stream",
          "name": "stdout",
          "text": [
            "R squ value for RF: 0.8662860413967725\n",
            "R squ value for SVM: 0.058302767226192875\n",
            "R squ value for KNN: 0.5038414916477967\n",
            "R squ value for GB: 0.8116532588512231\n",
            "R squ valur for BR : 0.8486245418827137\n"
          ]
        }
      ]
    },
    {
      "cell_type": "code",
      "source": [
        "print('MSE for RF:', mean_squared_error(y_test, y_pred_RF))\n",
        "print('MSE for SVM:', mean_squared_error(y_test, y_pred_SVR))\n",
        "print('MSE for KNN:', mean_squared_error(y_test, y_pred_KNN))\n",
        "print('MSE for GB:', mean_squared_error(y_test, y_pred_GB))\n",
        "print('MSE For BR:', mean_squared_error(y_test,y_pred_BR))"
      ],
      "metadata": {
        "colab": {
          "base_uri": "https://localhost:8080/"
        },
        "id": "7D__RNblpbDC",
        "outputId": "98a1c316-949b-467f-ff92-bf6d44ab31b3"
      },
      "execution_count": null,
      "outputs": [
        {
          "output_type": "stream",
          "name": "stdout",
          "text": [
            "MSE for RF: 4050.529782807119\n",
            "MSE for SVM: 28526.361253396353\n",
            "MSE for KNN: 15029.880470723307\n",
            "MSE for GB: 5705.493222151672\n",
            "MSE For BR: 4585.540716130885\n"
          ]
        }
      ]
    },
    {
      "cell_type": "code",
      "source": [
        "RF = RandomForestRegressor(n_estimators = 1000, n_jobs = -1, random_state=0) \n",
        "RF = RF.fit(X_train, y_train)\n",
        "y_pred_RF = RF.predict(X_test)\n",
        "\n",
        "print(\"R squared:\",r2_score(y_test,y_pred_RF))"
      ],
      "metadata": {
        "colab": {
          "base_uri": "https://localhost:8080/"
        },
        "id": "ObjAS_fYpa-z",
        "outputId": "7e75eec4-8566-46a4-aebe-761a2bc66171"
      },
      "execution_count": null,
      "outputs": [
        {
          "output_type": "stream",
          "name": "stdout",
          "text": [
            "R squared: 0.8677071786602193\n"
          ]
        }
      ]
    },
    {
      "cell_type": "markdown",
      "source": [
        "### **GridSearchCV**\n",
        "\n",
        "---\n",
        "\n"
      ],
      "metadata": {
        "id": "Mw_wvwrz1JoJ"
      }
    },
    {
      "cell_type": "code",
      "source": [
        "from sklearn.model_selection import GridSearchCV\n",
        "\n",
        "param_grid = {\n",
        "    'bootstrap': [True],\n",
        "    'max_depth': [20,30,40,],\n",
        "    'n_estimators': [300, 500, 1000, 1200]\n",
        "}\n",
        "\n",
        "\n",
        "grid_search = GridSearchCV(estimator = RF, param_grid = param_grid, \n",
        "                          cv = 3, n_jobs = -1, verbose = 2)\n",
        "grid_search.fit(X_train, y_train)"
      ],
      "metadata": {
        "colab": {
          "base_uri": "https://localhost:8080/"
        },
        "id": "OgPUQEEG5l68",
        "outputId": "6c6c98c2-0f4d-4dc0-ea29-80aeb1f7f76a"
      },
      "execution_count": null,
      "outputs": [
        {
          "output_type": "stream",
          "name": "stdout",
          "text": [
            "Fitting 3 folds for each of 12 candidates, totalling 36 fits\n"
          ]
        },
        {
          "output_type": "stream",
          "name": "stderr",
          "text": [
            "/usr/local/lib/python3.7/dist-packages/joblib/externals/loky/process_executor.py:705: UserWarning: A worker stopped while some jobs were given to the executor. This can be caused by a too short worker timeout or by a memory leak.\n",
            "  \"timeout or by a memory leak.\", UserWarning\n"
          ]
        },
        {
          "output_type": "execute_result",
          "data": {
            "text/plain": [
              "GridSearchCV(cv=3,\n",
              "             estimator=RandomForestRegressor(n_estimators=1000, n_jobs=-1,\n",
              "                                             random_state=0),\n",
              "             n_jobs=-1,\n",
              "             param_grid={'bootstrap': [True], 'max_depth': [20, 30, 40],\n",
              "                         'n_estimators': [300, 500, 1000, 1200]},\n",
              "             verbose=2)"
            ]
          },
          "metadata": {},
          "execution_count": 146
        }
      ]
    },
    {
      "cell_type": "code",
      "source": [
        "grid_search.best_params_"
      ],
      "metadata": {
        "id": "qW8WiZGN5-a4",
        "colab": {
          "base_uri": "https://localhost:8080/"
        },
        "outputId": "4ca7dea4-632f-4f22-f144-729d6fc0e37a"
      },
      "execution_count": null,
      "outputs": [
        {
          "output_type": "execute_result",
          "data": {
            "text/plain": [
              "{'bootstrap': True, 'max_depth': 30, 'n_estimators': 1200}"
            ]
          },
          "metadata": {},
          "execution_count": 147
        }
      ]
    },
    {
      "cell_type": "code",
      "source": [
        "grid_search.best_estimator_"
      ],
      "metadata": {
        "colab": {
          "base_uri": "https://localhost:8080/"
        },
        "id": "DZwNmFruprts",
        "outputId": "d39c9424-72e6-4dab-8d7a-e252cd264625"
      },
      "execution_count": null,
      "outputs": [
        {
          "output_type": "execute_result",
          "data": {
            "text/plain": [
              "RandomForestRegressor(max_depth=30, n_estimators=1200, n_jobs=-1,\n",
              "                      random_state=0)"
            ]
          },
          "metadata": {},
          "execution_count": 148
        }
      ]
    },
    {
      "cell_type": "code",
      "source": [
        "cvrf_grid = grid_search.best_estimator_\n",
        "#Predict the model\n",
        "y_pred_clf = cvrf_grid.predict(X_test)\n",
        "print(\"R squared value :\", r2_score(y_test, y_pred_clf))\n",
        "print(\"MSE:\", mean_squared_error(y_test, y_pred_clf))"
      ],
      "metadata": {
        "id": "ZY5Z7emHprqr",
        "colab": {
          "base_uri": "https://localhost:8080/"
        },
        "outputId": "a67f8845-ff3d-446f-d69b-234adbb1a7f2"
      },
      "execution_count": null,
      "outputs": [
        {
          "output_type": "stream",
          "name": "stdout",
          "text": [
            "R squared value : 0.8679591299658588\n",
            "MSE: 3999.847751184172\n"
          ]
        }
      ]
    },
    {
      "cell_type": "markdown",
      "source": [
        "### **Performing prediction on test set**\n",
        "\n",
        "---\n",
        "\n"
      ],
      "metadata": {
        "id": "oqdyTRE51z1F"
      }
    },
    {
      "cell_type": "code",
      "source": [
        "test"
      ],
      "metadata": {
        "colab": {
          "base_uri": "https://localhost:8080/",
          "height": 468
        },
        "id": "CkARHg-u-9N3",
        "outputId": "d37b87fe-cae2-44e3-dbf1-55d15fcbcfaa"
      },
      "execution_count": null,
      "outputs": [
        {
          "output_type": "execute_result",
          "data": {
            "text/html": [
              "\n",
              "  <div id=\"df-9ee4f2fd-fe33-4445-9dc0-8ddc9a3c3cbb\">\n",
              "    <div class=\"colab-df-container\">\n",
              "      <div>\n",
              "<style scoped>\n",
              "    .dataframe tbody tr th:only-of-type {\n",
              "        vertical-align: middle;\n",
              "    }\n",
              "\n",
              "    .dataframe tbody tr th {\n",
              "        vertical-align: top;\n",
              "    }\n",
              "\n",
              "    .dataframe thead th {\n",
              "        text-align: right;\n",
              "    }\n",
              "</style>\n",
              "<table border=\"1\" class=\"dataframe\">\n",
              "  <thead>\n",
              "    <tr style=\"text-align: right;\">\n",
              "      <th></th>\n",
              "      <th>datetime</th>\n",
              "      <th>season</th>\n",
              "      <th>holiday</th>\n",
              "      <th>workingday</th>\n",
              "      <th>weather</th>\n",
              "      <th>temp</th>\n",
              "      <th>atemp</th>\n",
              "      <th>humidity</th>\n",
              "      <th>windspeed</th>\n",
              "      <th>Total_booking</th>\n",
              "      <th>date</th>\n",
              "      <th>hour</th>\n",
              "      <th>weekday</th>\n",
              "      <th>month</th>\n",
              "    </tr>\n",
              "  </thead>\n",
              "  <tbody>\n",
              "    <tr>\n",
              "      <th>0</th>\n",
              "      <td>5/10/2012 11:00</td>\n",
              "      <td>Summer</td>\n",
              "      <td>0</td>\n",
              "      <td>1</td>\n",
              "      <td>Clear + Few clouds</td>\n",
              "      <td>21.32</td>\n",
              "      <td>25.000</td>\n",
              "      <td>48</td>\n",
              "      <td>35.0008</td>\n",
              "      <td>256</td>\n",
              "      <td>5/10/2012</td>\n",
              "      <td>11</td>\n",
              "      <td>Thursday</td>\n",
              "      <td>May</td>\n",
              "    </tr>\n",
              "    <tr>\n",
              "      <th>1</th>\n",
              "      <td>6/9/2012 7:00</td>\n",
              "      <td>Summer</td>\n",
              "      <td>0</td>\n",
              "      <td>0</td>\n",
              "      <td>Clear + Few clouds</td>\n",
              "      <td>23.78</td>\n",
              "      <td>27.275</td>\n",
              "      <td>64</td>\n",
              "      <td>7.0015</td>\n",
              "      <td>87</td>\n",
              "      <td>6/9/2012</td>\n",
              "      <td>7</td>\n",
              "      <td>Saturday</td>\n",
              "      <td>June</td>\n",
              "    </tr>\n",
              "    <tr>\n",
              "      <th>2</th>\n",
              "      <td>3/6/2011 20:00</td>\n",
              "      <td>Spring</td>\n",
              "      <td>0</td>\n",
              "      <td>0</td>\n",
              "      <td>Light Snow, Light Rain</td>\n",
              "      <td>11.48</td>\n",
              "      <td>12.120</td>\n",
              "      <td>100</td>\n",
              "      <td>27.9993</td>\n",
              "      <td>11</td>\n",
              "      <td>3/6/2011</td>\n",
              "      <td>20</td>\n",
              "      <td>Sunday</td>\n",
              "      <td>March</td>\n",
              "    </tr>\n",
              "    <tr>\n",
              "      <th>3</th>\n",
              "      <td>10/13/2011 11:00</td>\n",
              "      <td>Winter</td>\n",
              "      <td>0</td>\n",
              "      <td>1</td>\n",
              "      <td>Mist + Cloudy</td>\n",
              "      <td>25.42</td>\n",
              "      <td>28.790</td>\n",
              "      <td>83</td>\n",
              "      <td>0.0000</td>\n",
              "      <td>84</td>\n",
              "      <td>10/13/2011</td>\n",
              "      <td>11</td>\n",
              "      <td>Thursday</td>\n",
              "      <td>October</td>\n",
              "    </tr>\n",
              "    <tr>\n",
              "      <th>4</th>\n",
              "      <td>6/2/2012 12:00</td>\n",
              "      <td>Summer</td>\n",
              "      <td>0</td>\n",
              "      <td>0</td>\n",
              "      <td>Clear + Few clouds</td>\n",
              "      <td>25.42</td>\n",
              "      <td>31.060</td>\n",
              "      <td>43</td>\n",
              "      <td>23.9994</td>\n",
              "      <td>668</td>\n",
              "      <td>6/2/2012</td>\n",
              "      <td>12</td>\n",
              "      <td>Saturday</td>\n",
              "      <td>June</td>\n",
              "    </tr>\n",
              "    <tr>\n",
              "      <th>...</th>\n",
              "      <td>...</td>\n",
              "      <td>...</td>\n",
              "      <td>...</td>\n",
              "      <td>...</td>\n",
              "      <td>...</td>\n",
              "      <td>...</td>\n",
              "      <td>...</td>\n",
              "      <td>...</td>\n",
              "      <td>...</td>\n",
              "      <td>...</td>\n",
              "      <td>...</td>\n",
              "      <td>...</td>\n",
              "      <td>...</td>\n",
              "      <td>...</td>\n",
              "    </tr>\n",
              "    <tr>\n",
              "      <th>2173</th>\n",
              "      <td>3/8/2012 3:00</td>\n",
              "      <td>Spring</td>\n",
              "      <td>0</td>\n",
              "      <td>1</td>\n",
              "      <td>Clear + Few clouds</td>\n",
              "      <td>18.86</td>\n",
              "      <td>22.725</td>\n",
              "      <td>63</td>\n",
              "      <td>26.0027</td>\n",
              "      <td>3</td>\n",
              "      <td>3/8/2012</td>\n",
              "      <td>3</td>\n",
              "      <td>Thursday</td>\n",
              "      <td>March</td>\n",
              "    </tr>\n",
              "    <tr>\n",
              "      <th>2174</th>\n",
              "      <td>1/12/2012 12:00</td>\n",
              "      <td>Spring</td>\n",
              "      <td>0</td>\n",
              "      <td>1</td>\n",
              "      <td>Mist + Cloudy</td>\n",
              "      <td>13.94</td>\n",
              "      <td>17.425</td>\n",
              "      <td>81</td>\n",
              "      <td>7.0015</td>\n",
              "      <td>144</td>\n",
              "      <td>1/12/2012</td>\n",
              "      <td>12</td>\n",
              "      <td>Thursday</td>\n",
              "      <td>January</td>\n",
              "    </tr>\n",
              "    <tr>\n",
              "      <th>2175</th>\n",
              "      <td>3/7/2012 22:00</td>\n",
              "      <td>Spring</td>\n",
              "      <td>0</td>\n",
              "      <td>1</td>\n",
              "      <td>Clear + Few clouds</td>\n",
              "      <td>18.86</td>\n",
              "      <td>22.725</td>\n",
              "      <td>59</td>\n",
              "      <td>19.9995</td>\n",
              "      <td>159</td>\n",
              "      <td>3/7/2012</td>\n",
              "      <td>22</td>\n",
              "      <td>Wednesday</td>\n",
              "      <td>March</td>\n",
              "    </tr>\n",
              "    <tr>\n",
              "      <th>2176</th>\n",
              "      <td>5/12/2011 5:00</td>\n",
              "      <td>Summer</td>\n",
              "      <td>0</td>\n",
              "      <td>1</td>\n",
              "      <td>Clear + Few clouds</td>\n",
              "      <td>17.22</td>\n",
              "      <td>21.210</td>\n",
              "      <td>94</td>\n",
              "      <td>8.9981</td>\n",
              "      <td>29</td>\n",
              "      <td>5/12/2011</td>\n",
              "      <td>5</td>\n",
              "      <td>Thursday</td>\n",
              "      <td>May</td>\n",
              "    </tr>\n",
              "    <tr>\n",
              "      <th>2177</th>\n",
              "      <td>7/18/2012 16:00</td>\n",
              "      <td>Fall</td>\n",
              "      <td>0</td>\n",
              "      <td>1</td>\n",
              "      <td>Clear + Few clouds</td>\n",
              "      <td>30.34</td>\n",
              "      <td>34.850</td>\n",
              "      <td>66</td>\n",
              "      <td>16.9979</td>\n",
              "      <td>224</td>\n",
              "      <td>7/18/2012</td>\n",
              "      <td>16</td>\n",
              "      <td>Wednesday</td>\n",
              "      <td>July</td>\n",
              "    </tr>\n",
              "  </tbody>\n",
              "</table>\n",
              "<p>2178 rows × 14 columns</p>\n",
              "</div>\n",
              "      <button class=\"colab-df-convert\" onclick=\"convertToInteractive('df-9ee4f2fd-fe33-4445-9dc0-8ddc9a3c3cbb')\"\n",
              "              title=\"Convert this dataframe to an interactive table.\"\n",
              "              style=\"display:none;\">\n",
              "        \n",
              "  <svg xmlns=\"http://www.w3.org/2000/svg\" height=\"24px\"viewBox=\"0 0 24 24\"\n",
              "       width=\"24px\">\n",
              "    <path d=\"M0 0h24v24H0V0z\" fill=\"none\"/>\n",
              "    <path d=\"M18.56 5.44l.94 2.06.94-2.06 2.06-.94-2.06-.94-.94-2.06-.94 2.06-2.06.94zm-11 1L8.5 8.5l.94-2.06 2.06-.94-2.06-.94L8.5 2.5l-.94 2.06-2.06.94zm10 10l.94 2.06.94-2.06 2.06-.94-2.06-.94-.94-2.06-.94 2.06-2.06.94z\"/><path d=\"M17.41 7.96l-1.37-1.37c-.4-.4-.92-.59-1.43-.59-.52 0-1.04.2-1.43.59L10.3 9.45l-7.72 7.72c-.78.78-.78 2.05 0 2.83L4 21.41c.39.39.9.59 1.41.59.51 0 1.02-.2 1.41-.59l7.78-7.78 2.81-2.81c.8-.78.8-2.07 0-2.86zM5.41 20L4 18.59l7.72-7.72 1.47 1.35L5.41 20z\"/>\n",
              "  </svg>\n",
              "      </button>\n",
              "      \n",
              "  <style>\n",
              "    .colab-df-container {\n",
              "      display:flex;\n",
              "      flex-wrap:wrap;\n",
              "      gap: 12px;\n",
              "    }\n",
              "\n",
              "    .colab-df-convert {\n",
              "      background-color: #E8F0FE;\n",
              "      border: none;\n",
              "      border-radius: 50%;\n",
              "      cursor: pointer;\n",
              "      display: none;\n",
              "      fill: #1967D2;\n",
              "      height: 32px;\n",
              "      padding: 0 0 0 0;\n",
              "      width: 32px;\n",
              "    }\n",
              "\n",
              "    .colab-df-convert:hover {\n",
              "      background-color: #E2EBFA;\n",
              "      box-shadow: 0px 1px 2px rgba(60, 64, 67, 0.3), 0px 1px 3px 1px rgba(60, 64, 67, 0.15);\n",
              "      fill: #174EA6;\n",
              "    }\n",
              "\n",
              "    [theme=dark] .colab-df-convert {\n",
              "      background-color: #3B4455;\n",
              "      fill: #D2E3FC;\n",
              "    }\n",
              "\n",
              "    [theme=dark] .colab-df-convert:hover {\n",
              "      background-color: #434B5C;\n",
              "      box-shadow: 0px 1px 3px 1px rgba(0, 0, 0, 0.15);\n",
              "      filter: drop-shadow(0px 1px 2px rgba(0, 0, 0, 0.3));\n",
              "      fill: #FFFFFF;\n",
              "    }\n",
              "  </style>\n",
              "\n",
              "      <script>\n",
              "        const buttonEl =\n",
              "          document.querySelector('#df-9ee4f2fd-fe33-4445-9dc0-8ddc9a3c3cbb button.colab-df-convert');\n",
              "        buttonEl.style.display =\n",
              "          google.colab.kernel.accessAllowed ? 'block' : 'none';\n",
              "\n",
              "        async function convertToInteractive(key) {\n",
              "          const element = document.querySelector('#df-9ee4f2fd-fe33-4445-9dc0-8ddc9a3c3cbb');\n",
              "          const dataTable =\n",
              "            await google.colab.kernel.invokeFunction('convertToInteractive',\n",
              "                                                     [key], {});\n",
              "          if (!dataTable) return;\n",
              "\n",
              "          const docLinkHtml = 'Like what you see? Visit the ' +\n",
              "            '<a target=\"_blank\" href=https://colab.research.google.com/notebooks/data_table.ipynb>data table notebook</a>'\n",
              "            + ' to learn more about interactive tables.';\n",
              "          element.innerHTML = '';\n",
              "          dataTable['output_type'] = 'display_data';\n",
              "          await google.colab.output.renderOutput(dataTable, element);\n",
              "          const docLink = document.createElement('div');\n",
              "          docLink.innerHTML = docLinkHtml;\n",
              "          element.appendChild(docLink);\n",
              "        }\n",
              "      </script>\n",
              "    </div>\n",
              "  </div>\n",
              "  "
            ],
            "text/plain": [
              "              datetime  season  holiday  ...  hour    weekday    month\n",
              "0      5/10/2012 11:00  Summer        0  ...    11   Thursday      May\n",
              "1        6/9/2012 7:00  Summer        0  ...     7   Saturday     June\n",
              "2       3/6/2011 20:00  Spring        0  ...    20     Sunday    March\n",
              "3     10/13/2011 11:00  Winter        0  ...    11   Thursday  October\n",
              "4       6/2/2012 12:00  Summer        0  ...    12   Saturday     June\n",
              "...                ...     ...      ...  ...   ...        ...      ...\n",
              "2173     3/8/2012 3:00  Spring        0  ...     3   Thursday    March\n",
              "2174   1/12/2012 12:00  Spring        0  ...    12   Thursday  January\n",
              "2175    3/7/2012 22:00  Spring        0  ...    22  Wednesday    March\n",
              "2176    5/12/2011 5:00  Summer        0  ...     5   Thursday      May\n",
              "2177   7/18/2012 16:00    Fall        0  ...    16  Wednesday     July\n",
              "\n",
              "[2178 rows x 14 columns]"
            ]
          },
          "metadata": {},
          "execution_count": 177
        }
      ]
    },
    {
      "cell_type": "code",
      "source": [
        "test.drop('datetime' ,axis=1 ,inplace=True)\n",
        "test.drop('date', axis=1, inplace= True)"
      ],
      "metadata": {
        "id": "RbhUtM6R5_YM"
      },
      "execution_count": null,
      "outputs": []
    },
    {
      "cell_type": "code",
      "source": [
        "test.shape"
      ],
      "metadata": {
        "colab": {
          "base_uri": "https://localhost:8080/"
        },
        "id": "4SlSvDJsqfOy",
        "outputId": "d44209e5-99f9-4b8e-e094-6e13871e0e6f"
      },
      "execution_count": null,
      "outputs": [
        {
          "output_type": "execute_result",
          "data": {
            "text/plain": [
              "(2178, 12)"
            ]
          },
          "metadata": {},
          "execution_count": 179
        }
      ]
    },
    {
      "cell_type": "code",
      "source": [
        "le=LabelEncoder()\n",
        "test['weekday']=le.fit_transform(test['weekday'])\n",
        "test['season']=le.fit_transform(test['season'])\n",
        "test['month']=le.fit_transform(test['month'])\n",
        "test['weather']=le.fit_transform(test['weather'])\n",
        "test['temp']=le.fit_transform(test['temp'])\n",
        "test['atemp']=le.fit_transform(test['atemp'])\n",
        "test['windspeed']=le.fit_transform(test['windspeed'])"
      ],
      "metadata": {
        "id": "nC9Ocezq-XkQ"
      },
      "execution_count": null,
      "outputs": []
    },
    {
      "cell_type": "code",
      "source": [
        "from sklearn.metrics import mean_squared_log_error , r2_score"
      ],
      "metadata": {
        "id": "amQlN-1X8HNx"
      },
      "execution_count": null,
      "outputs": []
    },
    {
      "cell_type": "code",
      "source": [
        "pred = cvrf_grid.predict(test)\n",
        "print(\"R square:\",r2_score(df_test_label,pred))\n",
        "print(\"Mean squ log error  :\", mean_squared_log_error(df_test_label,pred))\n"
      ],
      "metadata": {
        "id": "0pSNuJe95_Wv",
        "colab": {
          "base_uri": "https://localhost:8080/"
        },
        "outputId": "2a32388b-ab47-46e3-acd7-9290d3a88d27"
      },
      "execution_count": null,
      "outputs": [
        {
          "output_type": "stream",
          "name": "stderr",
          "text": [
            "/usr/local/lib/python3.7/dist-packages/sklearn/base.py:493: FutureWarning: The feature names should match those that were passed during fit. Starting version 1.2, an error will be raised.\n",
            "Feature names unseen at fit time:\n",
            "- Total_booking\n",
            "Feature names seen at fit time, yet now missing:\n",
            "- date\n",
            "\n",
            "  warnings.warn(message, FutureWarning)\n"
          ]
        },
        {
          "output_type": "stream",
          "name": "stdout",
          "text": [
            "R square: 0.8127544846865435\n",
            "Mean squ log error  : 0.21260576989229407\n"
          ]
        }
      ]
    },
    {
      "cell_type": "code",
      "source": [
        "pred = pd.DataFrame(pred)\n",
        "pred.columns = ['Predictions']\n",
        "pred"
      ],
      "metadata": {
        "colab": {
          "base_uri": "https://localhost:8080/",
          "height": 424
        },
        "id": "jpRPM5OV_Lr0",
        "outputId": "d8953517-596a-4f91-9239-0d2f1a161879"
      },
      "execution_count": null,
      "outputs": [
        {
          "output_type": "execute_result",
          "data": {
            "text/html": [
              "\n",
              "  <div id=\"df-32f7ff65-ce25-4014-a5d6-5bedf61f8815\">\n",
              "    <div class=\"colab-df-container\">\n",
              "      <div>\n",
              "<style scoped>\n",
              "    .dataframe tbody tr th:only-of-type {\n",
              "        vertical-align: middle;\n",
              "    }\n",
              "\n",
              "    .dataframe tbody tr th {\n",
              "        vertical-align: top;\n",
              "    }\n",
              "\n",
              "    .dataframe thead th {\n",
              "        text-align: right;\n",
              "    }\n",
              "</style>\n",
              "<table border=\"1\" class=\"dataframe\">\n",
              "  <thead>\n",
              "    <tr style=\"text-align: right;\">\n",
              "      <th></th>\n",
              "      <th>Predictions</th>\n",
              "    </tr>\n",
              "  </thead>\n",
              "  <tbody>\n",
              "    <tr>\n",
              "      <th>0</th>\n",
              "      <td>196.248333</td>\n",
              "    </tr>\n",
              "    <tr>\n",
              "      <th>1</th>\n",
              "      <td>113.055417</td>\n",
              "    </tr>\n",
              "    <tr>\n",
              "      <th>2</th>\n",
              "      <td>60.445833</td>\n",
              "    </tr>\n",
              "    <tr>\n",
              "      <th>3</th>\n",
              "      <td>77.702500</td>\n",
              "    </tr>\n",
              "    <tr>\n",
              "      <th>4</th>\n",
              "      <td>461.552917</td>\n",
              "    </tr>\n",
              "    <tr>\n",
              "      <th>...</th>\n",
              "      <td>...</td>\n",
              "    </tr>\n",
              "    <tr>\n",
              "      <th>2173</th>\n",
              "      <td>3.420000</td>\n",
              "    </tr>\n",
              "    <tr>\n",
              "      <th>2174</th>\n",
              "      <td>77.577500</td>\n",
              "    </tr>\n",
              "    <tr>\n",
              "      <th>2175</th>\n",
              "      <td>87.992500</td>\n",
              "    </tr>\n",
              "    <tr>\n",
              "      <th>2176</th>\n",
              "      <td>21.716667</td>\n",
              "    </tr>\n",
              "    <tr>\n",
              "      <th>2177</th>\n",
              "      <td>334.274167</td>\n",
              "    </tr>\n",
              "  </tbody>\n",
              "</table>\n",
              "<p>2178 rows × 1 columns</p>\n",
              "</div>\n",
              "      <button class=\"colab-df-convert\" onclick=\"convertToInteractive('df-32f7ff65-ce25-4014-a5d6-5bedf61f8815')\"\n",
              "              title=\"Convert this dataframe to an interactive table.\"\n",
              "              style=\"display:none;\">\n",
              "        \n",
              "  <svg xmlns=\"http://www.w3.org/2000/svg\" height=\"24px\"viewBox=\"0 0 24 24\"\n",
              "       width=\"24px\">\n",
              "    <path d=\"M0 0h24v24H0V0z\" fill=\"none\"/>\n",
              "    <path d=\"M18.56 5.44l.94 2.06.94-2.06 2.06-.94-2.06-.94-.94-2.06-.94 2.06-2.06.94zm-11 1L8.5 8.5l.94-2.06 2.06-.94-2.06-.94L8.5 2.5l-.94 2.06-2.06.94zm10 10l.94 2.06.94-2.06 2.06-.94-2.06-.94-.94-2.06-.94 2.06-2.06.94z\"/><path d=\"M17.41 7.96l-1.37-1.37c-.4-.4-.92-.59-1.43-.59-.52 0-1.04.2-1.43.59L10.3 9.45l-7.72 7.72c-.78.78-.78 2.05 0 2.83L4 21.41c.39.39.9.59 1.41.59.51 0 1.02-.2 1.41-.59l7.78-7.78 2.81-2.81c.8-.78.8-2.07 0-2.86zM5.41 20L4 18.59l7.72-7.72 1.47 1.35L5.41 20z\"/>\n",
              "  </svg>\n",
              "      </button>\n",
              "      \n",
              "  <style>\n",
              "    .colab-df-container {\n",
              "      display:flex;\n",
              "      flex-wrap:wrap;\n",
              "      gap: 12px;\n",
              "    }\n",
              "\n",
              "    .colab-df-convert {\n",
              "      background-color: #E8F0FE;\n",
              "      border: none;\n",
              "      border-radius: 50%;\n",
              "      cursor: pointer;\n",
              "      display: none;\n",
              "      fill: #1967D2;\n",
              "      height: 32px;\n",
              "      padding: 0 0 0 0;\n",
              "      width: 32px;\n",
              "    }\n",
              "\n",
              "    .colab-df-convert:hover {\n",
              "      background-color: #E2EBFA;\n",
              "      box-shadow: 0px 1px 2px rgba(60, 64, 67, 0.3), 0px 1px 3px 1px rgba(60, 64, 67, 0.15);\n",
              "      fill: #174EA6;\n",
              "    }\n",
              "\n",
              "    [theme=dark] .colab-df-convert {\n",
              "      background-color: #3B4455;\n",
              "      fill: #D2E3FC;\n",
              "    }\n",
              "\n",
              "    [theme=dark] .colab-df-convert:hover {\n",
              "      background-color: #434B5C;\n",
              "      box-shadow: 0px 1px 3px 1px rgba(0, 0, 0, 0.15);\n",
              "      filter: drop-shadow(0px 1px 2px rgba(0, 0, 0, 0.3));\n",
              "      fill: #FFFFFF;\n",
              "    }\n",
              "  </style>\n",
              "\n",
              "      <script>\n",
              "        const buttonEl =\n",
              "          document.querySelector('#df-32f7ff65-ce25-4014-a5d6-5bedf61f8815 button.colab-df-convert');\n",
              "        buttonEl.style.display =\n",
              "          google.colab.kernel.accessAllowed ? 'block' : 'none';\n",
              "\n",
              "        async function convertToInteractive(key) {\n",
              "          const element = document.querySelector('#df-32f7ff65-ce25-4014-a5d6-5bedf61f8815');\n",
              "          const dataTable =\n",
              "            await google.colab.kernel.invokeFunction('convertToInteractive',\n",
              "                                                     [key], {});\n",
              "          if (!dataTable) return;\n",
              "\n",
              "          const docLinkHtml = 'Like what you see? Visit the ' +\n",
              "            '<a target=\"_blank\" href=https://colab.research.google.com/notebooks/data_table.ipynb>data table notebook</a>'\n",
              "            + ' to learn more about interactive tables.';\n",
              "          element.innerHTML = '';\n",
              "          dataTable['output_type'] = 'display_data';\n",
              "          await google.colab.output.renderOutput(dataTable, element);\n",
              "          const docLink = document.createElement('div');\n",
              "          docLink.innerHTML = docLinkHtml;\n",
              "          element.appendChild(docLink);\n",
              "        }\n",
              "      </script>\n",
              "    </div>\n",
              "  </div>\n",
              "  "
            ],
            "text/plain": [
              "      Predictions\n",
              "0      196.248333\n",
              "1      113.055417\n",
              "2       60.445833\n",
              "3       77.702500\n",
              "4      461.552917\n",
              "...           ...\n",
              "2173     3.420000\n",
              "2174    77.577500\n",
              "2175    87.992500\n",
              "2176    21.716667\n",
              "2177   334.274167\n",
              "\n",
              "[2178 rows x 1 columns]"
            ]
          },
          "metadata": {},
          "execution_count": 196
        }
      ]
    }
  ]
}